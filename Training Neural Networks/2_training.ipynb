{
 "cells": [
  {
   "cell_type": "code",
   "execution_count": null,
   "id": "cf2a18d0",
   "metadata": {},
   "outputs": [],
   "source": [
    "import tensorflow as tf\n",
    "from tensorflow.keras import layers\n",
    "import numpy as np\n",
    "\n",
    "print(tf.__version__)"
   ]
  },
  {
   "cell_type": "markdown",
   "id": "6c98a090",
   "metadata": {},
   "source": [
    "# L2 - Training\n",
    "\n",
    "## MNIST Classification\n",
    "\n",
    "The MNIST dataset consists of $28\\times28$ pixel images of handwritten digits and the task is to recognize the digits.\n",
    "In this notebook, we use this dataset to demonstrate how to implement a few of the discussed concepts of neural network training."
   ]
  },
  {
   "cell_type": "code",
   "execution_count": 2,
   "id": "5d8b8f43",
   "metadata": {},
   "outputs": [
    {
     "name": "stdout",
     "output_type": "stream",
     "text": [
      "Downloading data from https://storage.googleapis.com/tensorflow/tf-keras-datasets/mnist.npz\n",
      "11490434/11490434 [==============================] - 2s 0us/step\n"
     ]
    }
   ],
   "source": [
    "# load MNIST dataset\n",
    "(x_train, y_train), (x_test, y_test) = tf.keras.datasets.mnist.load_data()"
   ]
  },
  {
   "cell_type": "code",
   "execution_count": 3,
   "id": "d08e514b",
   "metadata": {},
   "outputs": [
    {
     "name": "stdout",
     "output_type": "stream",
     "text": [
      "Training images: (60000, 28, 28) of type: uint8\n",
      "Training labels: (60000,) of type: uint8\n"
     ]
    }
   ],
   "source": [
    "print(f\"Training images: {x_train.shape} of type: {x_train.dtype}\")\n",
    "print(f\"Training labels: {y_train.shape} of type: {y_train.dtype}\")"
   ]
  },
  {
   "cell_type": "code",
   "execution_count": 4,
   "id": "8382a9a9",
   "metadata": {},
   "outputs": [
    {
     "data": {
      "image/png": "[encoded data removed]",
      "text/plain": [
       "<Figure size 1000x1000 with 9 Axes>"
      ]
     },
     "metadata": {},
     "output_type": "display_data"
    }
   ],
   "source": [
    "# visualize examples\n",
    "import matplotlib.pyplot as plt\n",
    "\n",
    "plt.figure(figsize=(10, 10))\n",
    "for i in range(9):\n",
    "    ax = plt.subplot(3, 3, i + 1)\n",
    "    plt.imshow(x_train[i].astype(\"uint8\"))\n",
    "    plt.title(int(y_train[i]))\n",
    "    plt.axis(\"off\")\n",
    "plt.show()"
   ]
  },
  {
   "cell_type": "markdown",
   "id": "a9ee41a1",
   "metadata": {},
   "source": [
    "## Base Model\n",
    "### Model Definition"
   ]
  },
  {
   "cell_type": "code",
   "execution_count": 5,
   "id": "39244c8c",
   "metadata": {},
   "outputs": [],
   "source": [
    "def make_base_model(input_shape, classes):\n",
    "    inputs = tf.keras.Input(shape=input_shape)\n",
    "    \n",
    "    # Flatten images to 1D vectors\n",
    "    x = layers.Flatten()(inputs)\n",
    "    # normalize inputs\n",
    "    x = layers.Rescaling(1.0 / 255)(x)\n",
    "    \n",
    "    # fully connected layers\n",
    "    # NOTE: we could configure the dense layers directly with the required activation as in the outputs case\n",
    "    x = layers.Dense(256)(x)\n",
    "    x = layers.Activation(\"relu\")(x)\n",
    "    x = layers.Dense(128)(x)\n",
    "    x = layers.Activation(\"relu\")(x)\n",
    "    \n",
    "    outputs = layers.Dense(classes, activation='softmax')(x)\n",
    "    \n",
    "    return tf.keras.Model(inputs, outputs)"
   ]
  },
  {
   "cell_type": "code",
   "execution_count": 6,
   "id": "bb015717",
   "metadata": {},
   "outputs": [
    {
     "ename": "",
     "evalue": "",
     "output_type": "error",
     "traceback": [
      "\u001b[1;31mThe Kernel crashed while executing code in the current cell or a previous cell. \n",
      "\u001b[1;31mPlease review the code in the cell(s) to identify a possible cause of the failure. \n",
      "\u001b[1;31mClick <a href='https://aka.ms/vscodeJupyterKernelCrash'>here</a> for more info. \n",
      "\u001b[1;31mView Jupyter <a href='command:jupyter.viewOutput'>log</a> for further details."
     ]
    }
   ],
   "source": [
    "base_model = make_base_model(x_train.shape[1:], len(np.unique(y_train)))\n",
    "base_model.summary()"
   ]
  },
  {
   "cell_type": "markdown",
   "id": "fcd2b413",
   "metadata": {},
   "source": [
    "### Training"
   ]
  },
  {
   "cell_type": "code",
   "execution_count": 7,
   "id": "7564b81b",
   "metadata": {},
   "outputs": [],
   "source": [
    "# configure training algorithm, loss function and metrics\n",
    "base_model.compile(\n",
    "    # use stochastic gradient descent with base learning rate\n",
    "    optimizer=tf.keras.optimizers.SGD(),\n",
    "    # use crossentropy loss for multiple classes\n",
    "    # SparseCategoricalCrossentropy is a convenience function, which does the one-hot encoding of the labels for us\n",
    "    loss=tf.keras.losses.SparseCategoricalCrossentropy(),\n",
    "    # configure set of metrics (must be defined in tf.keras.metrics)\n",
    "    metrics=['accuracy']\n",
    ")"
   ]
  },
  {
   "cell_type": "code",
   "execution_count": 8,
   "id": "009242b7",
   "metadata": {},
   "outputs": [
    {
     "name": "stdout",
     "output_type": "stream",
     "text": [
      "Epoch 1/3\n",
      "3750/3750 [==============================] - 5s 1ms/step - loss: 0.4492 - accuracy: 0.8778\n",
      "Epoch 2/3\n",
      "3750/3750 [==============================] - 4s 1ms/step - loss: 0.2189 - accuracy: 0.9373\n",
      "Epoch 3/3\n",
      "3750/3750 [==============================] - 4s 1ms/step - loss: 0.1662 - accuracy: 0.9521\n"
     ]
    },
    {
     "data": {
      "text/plain": [
       "<keras.callbacks.History at 0x7f9b71434340>"
      ]
     },
     "execution_count": 8,
     "metadata": {},
     "output_type": "execute_result"
    }
   ],
   "source": [
    "base_model.fit(\n",
    "    # training data\n",
    "    x=x_train, y=y_train,\n",
    "    batch_size=16,\n",
    "    epochs=3,\n",
    ")"
   ]
  },
  {
   "cell_type": "markdown",
   "id": "f21baca3",
   "metadata": {},
   "source": [
    "### Testing"
   ]
  },
  {
   "cell_type": "code",
   "execution_count": 9,
   "id": "ad3892f2",
   "metadata": {},
   "outputs": [
    {
     "name": "stdout",
     "output_type": "stream",
     "text": [
      "313/313 [==============================] - 0s 917us/step - loss: 0.1450 - accuracy: 0.9564\n"
     ]
    },
    {
     "data": {
      "text/plain": [
       "[0.14495599269866943, 0.9563999772071838]"
      ]
     },
     "execution_count": 9,
     "metadata": {},
     "output_type": "execute_result"
    }
   ],
   "source": [
    "base_model.evaluate(\n",
    "    x=x_test, y=y_test\n",
    ")"
   ]
  },
  {
   "cell_type": "markdown",
   "id": "58328106",
   "metadata": {},
   "source": [
    "### Saving and Restoring"
   ]
  },
  {
   "cell_type": "code",
   "execution_count": 10,
   "id": "ef156608",
   "metadata": {},
   "outputs": [],
   "source": [
    "base_model_path = 'base_model.h5'"
   ]
  },
  {
   "cell_type": "code",
   "execution_count": 11,
   "id": "2e515b8a",
   "metadata": {},
   "outputs": [],
   "source": [
    "# save model to given path\n",
    "base_model.save(base_model_path)"
   ]
  },
  {
   "cell_type": "code",
   "execution_count": 12,
   "id": "2a0b89cc",
   "metadata": {},
   "outputs": [],
   "source": [
    "# delete model\n",
    "del base_model\n",
    "\n",
    "# restore model from saved state\n",
    "base_model = tf.keras.models.load_model(base_model_path)"
   ]
  },
  {
   "cell_type": "code",
   "execution_count": 13,
   "id": "4356821c",
   "metadata": {},
   "outputs": [
    {
     "name": "stdout",
     "output_type": "stream",
     "text": [
      "313/313 [==============================] - 0s 890us/step - loss: 0.1450 - accuracy: 0.9564\n"
     ]
    },
    {
     "data": {
      "text/plain": [
       "[0.14495599269866943, 0.9563999772071838]"
      ]
     },
     "execution_count": 13,
     "metadata": {},
     "output_type": "execute_result"
    }
   ],
   "source": [
    "base_model.evaluate(\n",
    "    x=x_test, y=y_test\n",
    ")"
   ]
  },
  {
   "cell_type": "markdown",
   "id": "c9c89bf3",
   "metadata": {},
   "source": [
    "## Weight Initialization"
   ]
  },
  {
   "cell_type": "code",
   "execution_count": 14,
   "id": "010c60f7",
   "metadata": {},
   "outputs": [],
   "source": [
    "def make_initialization_model(input_shape, classes, kernel_initializer, bias_initializer):\n",
    "    inputs = tf.keras.Input(shape=input_shape)\n",
    "    \n",
    "    # Flatten images to 1D vectors\n",
    "    x = layers.Flatten()(inputs)\n",
    "    # normalize inputs\n",
    "    x = layers.Rescaling(1.0 / 255)(x)\n",
    "    \n",
    "    # fully connected layers\n",
    "    # NOTE: we could configure the dense layers directly with the required activation as in the outputs case\n",
    "    x = layers.Dense(256, kernel_initializer=kernel_initializer, bias_initializer=bias_initializer)(x)\n",
    "    x = layers.Activation(\"relu\")(x)\n",
    "    x = layers.Dense(128, kernel_initializer=kernel_initializer, bias_initializer=bias_initializer)(x)\n",
    "    x = layers.Activation(\"relu\")(x)\n",
    "    \n",
    "    outputs = layers.Dense(classes, activation='softmax', \n",
    "                           kernel_initializer=kernel_initializer, \n",
    "                           bias_initializer=bias_initializer)(x)\n",
    "    \n",
    "    return tf.keras.Model(inputs, outputs)"
   ]
  },
  {
   "cell_type": "markdown",
   "id": "84f2e918",
   "metadata": {},
   "source": [
    "### Constant Zero Initialization"
   ]
  },
  {
   "cell_type": "code",
   "execution_count": 15,
   "id": "511c909a",
   "metadata": {},
   "outputs": [],
   "source": [
    "zero_model = make_initialization_model(x_train.shape[1:], len(np.unique(y_train)),\n",
    "                                       tf.keras.initializers.Zeros(), tf.keras.initializers.Zeros())"
   ]
  },
  {
   "cell_type": "code",
   "execution_count": 16,
   "id": "59980a97",
   "metadata": {},
   "outputs": [],
   "source": [
    "zero_model.compile(\n",
    "    optimizer=tf.keras.optimizers.SGD(),\n",
    "    loss=tf.keras.losses.SparseCategoricalCrossentropy(),\n",
    "    metrics=['accuracy']\n",
    ")"
   ]
  },
  {
   "cell_type": "code",
   "execution_count": 17,
   "id": "8c08af43",
   "metadata": {},
   "outputs": [
    {
     "name": "stdout",
     "output_type": "stream",
     "text": [
      "Epoch 1/3\n",
      "3750/3750 [==============================] - 4s 1ms/step - loss: 2.3015 - accuracy: 0.1117\n",
      "Epoch 2/3\n",
      "3750/3750 [==============================] - 4s 1ms/step - loss: 2.3013 - accuracy: 0.1124\n",
      "Epoch 3/3\n",
      "3750/3750 [==============================] - 4s 1ms/step - loss: 2.3014 - accuracy: 0.1124\n"
     ]
    },
    {
     "data": {
      "text/plain": [
       "<keras.callbacks.History at 0x7f9b71525cd0>"
      ]
     },
     "execution_count": 17,
     "metadata": {},
     "output_type": "execute_result"
    }
   ],
   "source": [
    "zero_model.fit(\n",
    "    x=x_train, y=y_train,\n",
    "    batch_size=16,\n",
    "    epochs=3,\n",
    ")"
   ]
  },
  {
   "cell_type": "markdown",
   "id": "e6010ede",
   "metadata": {},
   "source": [
    "### Random Initialization"
   ]
  },
  {
   "cell_type": "code",
   "execution_count": 18,
   "id": "8701f7f6",
   "metadata": {},
   "outputs": [],
   "source": [
    "random_model = make_initialization_model(x_train.shape[1:], len(np.unique(y_train)),\n",
    "                                       tf.keras.initializers.RandomNormal(mean=0.0, stddev=1., seed=42), \n",
    "                                       # normally, biases are zero initialized by default\n",
    "                                       tf.keras.initializers.Zeros())"
   ]
  },
  {
   "cell_type": "code",
   "execution_count": 19,
   "id": "6538de40",
   "metadata": {},
   "outputs": [],
   "source": [
    "random_model.compile(\n",
    "    optimizer=tf.keras.optimizers.SGD(),\n",
    "    loss=tf.keras.losses.SparseCategoricalCrossentropy(),\n",
    "    metrics=['accuracy']\n",
    ")"
   ]
  },
  {
   "cell_type": "code",
   "execution_count": 20,
   "id": "426b6b32",
   "metadata": {},
   "outputs": [
    {
     "name": "stdout",
     "output_type": "stream",
     "text": [
      "Epoch 1/3\n",
      "3750/3750 [==============================] - 4s 1ms/step - loss: 9.8584 - accuracy: 0.6856\n",
      "Epoch 2/3\n",
      "3750/3750 [==============================] - 4s 1ms/step - loss: 1.0715 - accuracy: 0.7317\n",
      "Epoch 3/3\n",
      "3750/3750 [==============================] - 4s 1ms/step - loss: 0.8351 - accuracy: 0.7867\n"
     ]
    },
    {
     "data": {
      "text/plain": [
       "<keras.callbacks.History at 0x7f9b851a7cd0>"
      ]
     },
     "execution_count": 20,
     "metadata": {},
     "output_type": "execute_result"
    }
   ],
   "source": [
    "random_model.fit(\n",
    "    x=x_train, y=y_train,\n",
    "    batch_size=16,\n",
    "    epochs=3,\n",
    ")"
   ]
  },
  {
   "cell_type": "markdown",
   "id": "510ce6d7",
   "metadata": {},
   "source": [
    "### He Initialization\n",
    "\n",
    "We have seen Xavier initalization already in the base example, since this is the default initialization scheme for a dense\n",
    "layer."
   ]
  },
  {
   "cell_type": "code",
   "execution_count": 21,
   "id": "9b38adc7",
   "metadata": {},
   "outputs": [
    {
     "name": "stderr",
     "output_type": "stream",
     "text": [
      "/opt/homebrew/anaconda3/envs/ml/lib/python3.9/site-packages/keras/initializers/initializers_v2.py:120: UserWarning: The initializer HeNormal is unseeded and being called multiple times, which will return identical values  each time (even if the initializer is unseeded). Please update your code to provide a seed to the initializer, or avoid using the same initalizer instance more than once.\n",
      "  warnings.warn(\n"
     ]
    }
   ],
   "source": [
    "he_model = make_initialization_model(x_train.shape[1:], len(np.unique(y_train)),\n",
    "                                       tf.keras.initializers.HeNormal(), \n",
    "                                       tf.keras.initializers.Zeros())"
   ]
  },
  {
   "cell_type": "code",
   "execution_count": 22,
   "id": "978c1cea",
   "metadata": {},
   "outputs": [],
   "source": [
    "he_model.compile(\n",
    "    optimizer=tf.keras.optimizers.SGD(),\n",
    "    loss=tf.keras.losses.SparseCategoricalCrossentropy(),\n",
    "    metrics=['accuracy']\n",
    ")"
   ]
  },
  {
   "cell_type": "code",
   "execution_count": 23,
   "id": "374bb5f1",
   "metadata": {},
   "outputs": [
    {
     "name": "stdout",
     "output_type": "stream",
     "text": [
      "Epoch 1/3\n",
      "3750/3750 [==============================] - 4s 1ms/step - loss: 0.4184 - accuracy: 0.8853\n",
      "Epoch 2/3\n",
      "3750/3750 [==============================] - 4s 1ms/step - loss: 0.2113 - accuracy: 0.9396\n",
      "Epoch 3/3\n",
      "3750/3750 [==============================] - 4s 1ms/step - loss: 0.1606 - accuracy: 0.9534\n"
     ]
    },
    {
     "data": {
      "text/plain": [
       "<keras.callbacks.History at 0x7f9b715218e0>"
      ]
     },
     "execution_count": 23,
     "metadata": {},
     "output_type": "execute_result"
    }
   ],
   "source": [
    "he_model.fit(\n",
    "    x=x_train, y=y_train,\n",
    "    batch_size=16,\n",
    "    epochs=3,\n",
    ")"
   ]
  },
  {
   "cell_type": "markdown",
   "id": "c3722910",
   "metadata": {},
   "source": [
    "$\\Rightarrow$ There does not seem to be much difference between Xavier and He initialization in this case.\n",
    "This is not unexpected, since problems with Xavier initialization should become apparent only for deeper networks."
   ]
  },
  {
   "cell_type": "markdown",
   "id": "ff0a2984",
   "metadata": {},
   "source": [
    "## Training Algorithms\n",
    "\n",
    "### Adam"
   ]
  },
  {
   "cell_type": "code",
   "execution_count": 24,
   "id": "904bb547",
   "metadata": {},
   "outputs": [],
   "source": [
    "adam_model = make_base_model(x_train.shape[1:], len(np.unique(y_train)))"
   ]
  },
  {
   "cell_type": "code",
   "execution_count": 25,
   "id": "cb0ebfef",
   "metadata": {},
   "outputs": [],
   "source": [
    "adam_model.compile(\n",
    "    # simply change the optimizer to one implemented in tf.keras.optimizers\n",
    "    optimizer=tf.keras.optimizers.Adam(),\n",
    "    loss=tf.keras.losses.SparseCategoricalCrossentropy(),\n",
    "    metrics=['accuracy']\n",
    ")"
   ]
  },
  {
   "cell_type": "code",
   "execution_count": 26,
   "id": "d0b86eb0",
   "metadata": {},
   "outputs": [
    {
     "name": "stdout",
     "output_type": "stream",
     "text": [
      "Epoch 1/3\n",
      "3750/3750 [==============================] - 5s 1ms/step - loss: 0.1910 - accuracy: 0.9421\n",
      "Epoch 2/3\n",
      "3750/3750 [==============================] - 5s 1ms/step - loss: 0.0861 - accuracy: 0.9737\n",
      "Epoch 3/3\n",
      "3750/3750 [==============================] - 5s 1ms/step - loss: 0.0627 - accuracy: 0.9803\n"
     ]
    },
    {
     "data": {
      "text/plain": [
       "<keras.callbacks.History at 0x7f9b5805b130>"
      ]
     },
     "execution_count": 26,
     "metadata": {},
     "output_type": "execute_result"
    }
   ],
   "source": [
    "adam_model.fit(\n",
    "    x=x_train, y=y_train,\n",
    "    batch_size=16,\n",
    "    epochs=3,\n",
    ")"
   ]
  },
  {
   "cell_type": "code",
   "execution_count": 27,
   "id": "503f3747",
   "metadata": {},
   "outputs": [
    {
     "name": "stdout",
     "output_type": "stream",
     "text": [
      "313/313 [==============================] - 0s 891us/step - loss: 0.0792 - accuracy: 0.9764\n"
     ]
    },
    {
     "data": {
      "text/plain": [
       "[0.07922563701868057, 0.9764000177383423]"
      ]
     },
     "execution_count": 27,
     "metadata": {},
     "output_type": "execute_result"
    }
   ],
   "source": [
    "adam_model.evaluate(\n",
    "    x=x_test, y=y_test\n",
    ")"
   ]
  },
  {
   "cell_type": "markdown",
   "id": "8f92d5fe",
   "metadata": {},
   "source": [
    "## Regularization\n",
    "### Weight Decay"
   ]
  },
  {
   "cell_type": "code",
   "execution_count": 28,
   "id": "80b6c9d8",
   "metadata": {},
   "outputs": [],
   "source": [
    "def make_regularization_model(input_shape, classes, kernel_regularizer):\n",
    "    inputs = tf.keras.Input(shape=input_shape)\n",
    "    \n",
    "    # Flatten images to 1D vectors\n",
    "    x = layers.Flatten()(inputs)\n",
    "    # normalize inputs\n",
    "    x = layers.Rescaling(1.0 / 255)(x)\n",
    "    \n",
    "    # fully connected layers\n",
    "    x = layers.Dense(256, kernel_regularizer=kernel_regularizer)(x)\n",
    "    x = layers.Activation(\"relu\")(x)\n",
    "    x = layers.Dense(128, kernel_regularizer=kernel_regularizer)(x)\n",
    "    x = layers.Activation(\"relu\")(x)\n",
    "    \n",
    "    outputs = layers.Dense(classes, activation='softmax', \n",
    "                           kernel_regularizer=kernel_regularizer)(x)\n",
    "    \n",
    "    return tf.keras.Model(inputs, outputs)"
   ]
  },
  {
   "cell_type": "code",
   "execution_count": 29,
   "id": "1f88669f",
   "metadata": {},
   "outputs": [],
   "source": [
    "weight_decay_model = make_regularization_model(x_train.shape[1:], len(np.unique(y_train)),\n",
    "                                               tf.keras.regularizers.L2())"
   ]
  },
  {
   "cell_type": "code",
   "execution_count": 30,
   "id": "05d36357",
   "metadata": {},
   "outputs": [],
   "source": [
    "weight_decay_model.compile(\n",
    "    optimizer=tf.keras.optimizers.Adam(),\n",
    "    loss=tf.keras.losses.SparseCategoricalCrossentropy(),\n",
    "    metrics=['accuracy']\n",
    ")"
   ]
  },
  {
   "cell_type": "code",
   "execution_count": 31,
   "id": "d5614f92",
   "metadata": {},
   "outputs": [
    {
     "name": "stdout",
     "output_type": "stream",
     "text": [
      "Epoch 1/3\n",
      "3750/3750 [==============================] - 6s 2ms/step - loss: 1.0053 - accuracy: 0.8826\n",
      "Epoch 2/3\n",
      "3750/3750 [==============================] - 5s 1ms/step - loss: 0.8135 - accuracy: 0.9002\n",
      "Epoch 3/3\n",
      "3750/3750 [==============================] - 5s 1ms/step - loss: 0.7957 - accuracy: 0.9037\n"
     ]
    },
    {
     "data": {
      "text/plain": [
       "<keras.callbacks.History at 0x7f9b7108f6d0>"
      ]
     },
     "execution_count": 31,
     "metadata": {},
     "output_type": "execute_result"
    }
   ],
   "source": [
    "weight_decay_model.fit(\n",
    "    x=x_train, y=y_train,\n",
    "    batch_size=16,\n",
    "    epochs=3,\n",
    ")"
   ]
  },
  {
   "cell_type": "markdown",
   "id": "28fbda17",
   "metadata": {},
   "source": [
    "$\\Rightarrow$ Obvsiously, we overdid the regularization here - this requires tuning."
   ]
  },
  {
   "cell_type": "markdown",
   "id": "0c4b6448",
   "metadata": {},
   "source": [
    "### Early Stopping"
   ]
  },
  {
   "cell_type": "code",
   "execution_count": 32,
   "id": "23ee8825",
   "metadata": {},
   "outputs": [],
   "source": [
    "early_stopping_model = make_base_model(x_train.shape[1:], len(np.unique(y_train)))"
   ]
  },
  {
   "cell_type": "code",
   "execution_count": 33,
   "id": "e8053f08",
   "metadata": {},
   "outputs": [],
   "source": [
    "early_stopping_model.compile(\n",
    "    optimizer=tf.keras.optimizers.Adam(),\n",
    "    loss=tf.keras.losses.SparseCategoricalCrossentropy(),\n",
    "    metrics=['accuracy']\n",
    ")"
   ]
  },
  {
   "cell_type": "code",
   "execution_count": 34,
   "id": "d08194de",
   "metadata": {},
   "outputs": [],
   "source": [
    "# define callbacks\n",
    "my_callbacks = [\n",
    "    # configure early stopping -> by default, stop if validation loss did not improve for three epochs\n",
    "    tf.keras.callbacks.EarlyStopping(patience=3),\n",
    "    # reduce learning rate if training stalled - NOTE: you probably want to set the patience levels higher for both\n",
    "    # early stopping and this learning rate reduction\n",
    "    tf.keras.callbacks.ReduceLROnPlateau(patience=2),\n",
    "    # log training progress for TensorBoard\n",
    "    tf.keras.callbacks.TensorBoard('log_dir'),\n",
    "    # log training progress as CSV file\n",
    "    # tf.keras.callbacks.CSVLogger('training.log')\n",
    "    # save currently best performing model based on validation loss\n",
    "    # tf.keras.callbacks.ModelCheckpoint(filepath='best.h5', save_best_only=True)\n",
    "]"
   ]
  },
  {
   "cell_type": "code",
   "execution_count": 35,
   "id": "3935b26d",
   "metadata": {},
   "outputs": [
    {
     "name": "stdout",
     "output_type": "stream",
     "text": [
      "Epoch 1/20\n",
      "3000/3000 [==============================] - 5s 1ms/step - loss: 0.2167 - accuracy: 0.9346 - val_loss: 0.1400 - val_accuracy: 0.9572 - lr: 0.0010\n",
      "Epoch 2/20\n",
      "3000/3000 [==============================] - 4s 1ms/step - loss: 0.0927 - accuracy: 0.9707 - val_loss: 0.0964 - val_accuracy: 0.9696 - lr: 0.0010\n",
      "Epoch 3/20\n",
      "3000/3000 [==============================] - 4s 1ms/step - loss: 0.0656 - accuracy: 0.9791 - val_loss: 0.1099 - val_accuracy: 0.9671 - lr: 0.0010\n",
      "Epoch 4/20\n",
      "3000/3000 [==============================] - 5s 2ms/step - loss: 0.0475 - accuracy: 0.9849 - val_loss: 0.0981 - val_accuracy: 0.9727 - lr: 0.0010\n",
      "Epoch 5/20\n",
      "3000/3000 [==============================] - 5s 2ms/step - loss: 0.0166 - accuracy: 0.9949 - val_loss: 0.0735 - val_accuracy: 0.9812 - lr: 1.0000e-04\n",
      "Epoch 6/20\n",
      "3000/3000 [==============================] - 4s 1ms/step - loss: 0.0089 - accuracy: 0.9977 - val_loss: 0.0759 - val_accuracy: 0.9817 - lr: 1.0000e-04\n",
      "Epoch 7/20\n",
      "3000/3000 [==============================] - 4s 1ms/step - loss: 0.0058 - accuracy: 0.9986 - val_loss: 0.0802 - val_accuracy: 0.9803 - lr: 1.0000e-04\n",
      "Epoch 8/20\n",
      "3000/3000 [==============================] - 4s 1ms/step - loss: 0.0033 - accuracy: 0.9995 - val_loss: 0.0798 - val_accuracy: 0.9818 - lr: 1.0000e-05\n"
     ]
    },
    {
     "data": {
      "text/plain": [
       "<keras.callbacks.History at 0x7f9b85285790>"
      ]
     },
     "execution_count": 35,
     "metadata": {},
     "output_type": "execute_result"
    }
   ],
   "source": [
    "early_stopping_model.fit(\n",
    "    x=x_train, y=y_train,\n",
    "    # configure validation split\n",
    "    validation_split=0.2,\n",
    "    batch_size=16,\n",
    "    epochs=20,\n",
    "    # set callbacks\n",
    "    callbacks=my_callbacks\n",
    ")"
   ]
  },
  {
   "cell_type": "code",
   "execution_count": 36,
   "id": "7f595c77",
   "metadata": {},
   "outputs": [
    {
     "name": "stdout",
     "output_type": "stream",
     "text": [
      "313/313 [==============================] - 0s 940us/step - loss: 0.0647 - accuracy: 0.9838\n"
     ]
    },
    {
     "data": {
      "text/plain": [
       "[0.06472136080265045, 0.9837999939918518]"
      ]
     },
     "execution_count": 36,
     "metadata": {},
     "output_type": "execute_result"
    }
   ],
   "source": [
    "early_stopping_model.evaluate(\n",
    "    x=x_test, y=y_test\n",
    ")"
   ]
  },
  {
   "cell_type": "markdown",
   "id": "80d9e419",
   "metadata": {},
   "source": [
    "$\\Rightarrow$ so far the best, but we also trained longer…"
   ]
  },
  {
   "cell_type": "markdown",
   "id": "0a184678",
   "metadata": {},
   "source": [
    "### Dropout"
   ]
  },
  {
   "cell_type": "code",
   "execution_count": 37,
   "id": "c59c09ba",
   "metadata": {},
   "outputs": [],
   "source": [
    "def make_dropout_model(input_shape, classes, dropout_config):\n",
    "    inputs = tf.keras.Input(shape=input_shape)\n",
    "    \n",
    "    # Flatten images to 1D vectors\n",
    "    x = layers.Flatten()(inputs)\n",
    "    # normalize inputs\n",
    "    x = layers.Rescaling(1.0 / 255)(x)\n",
    "    \n",
    "    # fully connected layers\n",
    "    x = layers.Dense(256)(x)\n",
    "    x = layers.Activation(\"relu\")(x)\n",
    "    if dropout_config[0] is not None:\n",
    "        x = layers.Dropout(dropout_config[0])(x)\n",
    "    x = layers.Dense(128)(x)\n",
    "    x = layers.Activation(\"relu\")(x)\n",
    "    if dropout_config[1] is not None:\n",
    "        x = layers.Dropout(dropout_config[1])(x)\n",
    "    \n",
    "    outputs = layers.Dense(classes, activation='softmax')(x)\n",
    "    \n",
    "    return tf.keras.Model(inputs, outputs)"
   ]
  },
  {
   "cell_type": "code",
   "execution_count": 38,
   "id": "c91de3b1",
   "metadata": {},
   "outputs": [],
   "source": [
    "heavy_dropout_model = make_dropout_model(x_train.shape[1:], len(np.unique(y_train)), [0.5, 0.5])"
   ]
  },
  {
   "cell_type": "code",
   "execution_count": 39,
   "id": "ecbcb365",
   "metadata": {},
   "outputs": [],
   "source": [
    "heavy_dropout_model.compile(\n",
    "    optimizer=tf.keras.optimizers.Adam(),\n",
    "    loss=tf.keras.losses.SparseCategoricalCrossentropy(),\n",
    "    metrics=['accuracy']\n",
    ")"
   ]
  },
  {
   "cell_type": "code",
   "execution_count": 40,
   "id": "2f9b6930",
   "metadata": {},
   "outputs": [
    {
     "name": "stdout",
     "output_type": "stream",
     "text": [
      "Epoch 1/3\n",
      "3750/3750 [==============================] - 6s 1ms/step - loss: 0.4051 - accuracy: 0.8778\n",
      "Epoch 2/3\n",
      "3750/3750 [==============================] - 5s 1ms/step - loss: 0.2304 - accuracy: 0.9328\n",
      "Epoch 3/3\n",
      "3750/3750 [==============================] - 5s 1ms/step - loss: 0.1981 - accuracy: 0.9433\n"
     ]
    },
    {
     "data": {
      "text/plain": [
       "<keras.callbacks.History at 0x7f9b90c3e850>"
      ]
     },
     "execution_count": 40,
     "metadata": {},
     "output_type": "execute_result"
    }
   ],
   "source": [
    "heavy_dropout_model.fit(\n",
    "    x=x_train, y=y_train,\n",
    "    batch_size=16,\n",
    "    epochs=3,\n",
    ")"
   ]
  },
  {
   "cell_type": "code",
   "execution_count": 41,
   "id": "f9e49f44",
   "metadata": {},
   "outputs": [],
   "source": [
    "light_dropout_model = make_dropout_model(x_train.shape[1:], len(np.unique(y_train)), [None, 0.2])"
   ]
  },
  {
   "cell_type": "code",
   "execution_count": 42,
   "id": "613763ce",
   "metadata": {},
   "outputs": [],
   "source": [
    "light_dropout_model.compile(\n",
    "    optimizer=tf.keras.optimizers.Adam(),\n",
    "    loss=tf.keras.losses.SparseCategoricalCrossentropy(),\n",
    "    metrics=['accuracy']\n",
    ")"
   ]
  },
  {
   "cell_type": "code",
   "execution_count": 43,
   "id": "0464a3bd",
   "metadata": {},
   "outputs": [
    {
     "name": "stdout",
     "output_type": "stream",
     "text": [
      "Epoch 1/3\n",
      "3750/3750 [==============================] - 5s 1ms/step - loss: 0.2118 - accuracy: 0.9359\n",
      "Epoch 2/3\n",
      "3750/3750 [==============================] - 5s 1ms/step - loss: 0.0966 - accuracy: 0.9702\n",
      "Epoch 3/3\n",
      "3750/3750 [==============================] - 5s 1ms/step - loss: 0.0690 - accuracy: 0.9785\n"
     ]
    },
    {
     "data": {
      "text/plain": [
       "<keras.callbacks.History at 0x7f9b71550580>"
      ]
     },
     "execution_count": 43,
     "metadata": {},
     "output_type": "execute_result"
    }
   ],
   "source": [
    "light_dropout_model.fit(\n",
    "    x=x_train, y=y_train,\n",
    "    batch_size=16,\n",
    "    epochs=3,\n",
    ")"
   ]
  },
  {
   "cell_type": "code",
   "execution_count": 44,
   "id": "c0e259cf",
   "metadata": {},
   "outputs": [
    {
     "name": "stdout",
     "output_type": "stream",
     "text": [
      "313/313 [==============================] - 0s 911us/step - loss: 0.0799 - accuracy: 0.9778\n"
     ]
    },
    {
     "data": {
      "text/plain": [
       "[0.07994246482849121, 0.9778000116348267]"
      ]
     },
     "execution_count": 44,
     "metadata": {},
     "output_type": "execute_result"
    }
   ],
   "source": [
    "light_dropout_model.evaluate(\n",
    "    x=x_test, y=y_test\n",
    ")"
   ]
  },
  {
   "cell_type": "markdown",
   "id": "da07d43c",
   "metadata": {},
   "source": [
    "$\\Rightarrow$ possibly some advantage of the model with light dropout compared to the base model"
   ]
  },
  {
   "cell_type": "markdown",
   "id": "02a58c1c",
   "metadata": {},
   "source": [
    "### Batch Normalization"
   ]
  },
  {
   "cell_type": "code",
   "execution_count": 45,
   "id": "6f2fbc43",
   "metadata": {},
   "outputs": [],
   "source": [
    "def make_batchnorm_model(input_shape, classes, batchnorm_config):\n",
    "    inputs = tf.keras.Input(shape=input_shape)\n",
    "    \n",
    "    # Flatten images to 1D vectors\n",
    "    x = layers.Flatten()(inputs)\n",
    "    # normalize inputs\n",
    "    x = layers.Rescaling(1.0 / 255)(x)\n",
    "    \n",
    "    # fully connected layers\n",
    "    x = layers.Dense(256)(x)\n",
    "    if batchnorm_config[0] is True:\n",
    "        x = layers.BatchNormalization()(x)\n",
    "    x = layers.Activation(\"relu\")(x)\n",
    "    x = layers.Dense(128)(x)\n",
    "    if batchnorm_config[1] is True:\n",
    "        x = layers.BatchNormalization()(x)\n",
    "    x = layers.Activation(\"relu\")(x)\n",
    "    \n",
    "    outputs = layers.Dense(classes, activation='softmax')(x)\n",
    "    \n",
    "    return tf.keras.Model(inputs, outputs)"
   ]
  },
  {
   "cell_type": "code",
   "execution_count": 46,
   "id": "c50dabb6",
   "metadata": {},
   "outputs": [],
   "source": [
    "batchnorm_model = make_batchnorm_model(x_train.shape[1:], len(np.unique(y_train)), [True, True])"
   ]
  },
  {
   "cell_type": "code",
   "execution_count": 47,
   "id": "69944e64",
   "metadata": {},
   "outputs": [],
   "source": [
    "batchnorm_model.compile(\n",
    "    optimizer=tf.keras.optimizers.Adam(),\n",
    "    loss=tf.keras.losses.SparseCategoricalCrossentropy(),\n",
    "    metrics=['accuracy']\n",
    ")"
   ]
  },
  {
   "cell_type": "code",
   "execution_count": 48,
   "id": "d14fa94d",
   "metadata": {},
   "outputs": [
    {
     "name": "stdout",
     "output_type": "stream",
     "text": [
      "Epoch 1/3\n",
      "3750/3750 [==============================] - 6s 2ms/step - loss: 0.2422 - accuracy: 0.9265\n",
      "Epoch 2/3\n",
      "3750/3750 [==============================] - 5s 1ms/step - loss: 0.1272 - accuracy: 0.9605\n",
      "Epoch 3/3\n",
      "3750/3750 [==============================] - 5s 1ms/step - loss: 0.1027 - accuracy: 0.9673\n"
     ]
    },
    {
     "data": {
      "text/plain": [
       "<keras.callbacks.History at 0x7f9b600298b0>"
      ]
     },
     "execution_count": 48,
     "metadata": {},
     "output_type": "execute_result"
    }
   ],
   "source": [
    "batchnorm_model.fit(\n",
    "    x=x_train, y=y_train,\n",
    "    batch_size=16,\n",
    "    epochs=3,\n",
    ")"
   ]
  },
  {
   "cell_type": "markdown",
   "id": "55a11719",
   "metadata": {},
   "source": [
    "$\\Rightarrow$ does not seem to do that much here, but this is a rather shallow network and we train for few epochs"
   ]
  },
  {
   "cell_type": "markdown",
   "id": "9ec9928c",
   "metadata": {},
   "source": [
    "### Data Augmentation"
   ]
  },
  {
   "cell_type": "code",
   "execution_count": 49,
   "id": "14439c03",
   "metadata": {},
   "outputs": [],
   "source": [
    "# convert numpy arrays to TensorFlow dataset for augmentation\n",
    "train_ds = tf.data.Dataset.from_tensor_slices((x_train.reshape((-1, 28, 28, 1)), y_train))"
   ]
  },
  {
   "cell_type": "code",
   "execution_count": 50,
   "id": "5a886d6e",
   "metadata": {},
   "outputs": [],
   "source": [
    "# define augmentations to apply\n",
    "data_augmentation = tf.keras.Sequential(\n",
    "    [\n",
    "        layers.RandomRotation(0.1),\n",
    "        # move image by 20% up/down/left/right - determine pixels to fill in by boarder pixels\n",
    "        layers.RandomTranslation(height_factor=0.2, width_factor=0.2, fill_mode='nearest')\n",
    "    ]\n",
    ")"
   ]
  },
  {
   "cell_type": "code",
   "execution_count": 51,
   "id": "caa059c2",
   "metadata": {},
   "outputs": [],
   "source": [
    "# Apply `data_augmentation` to the training images.\n",
    "train_ds = train_ds.map(\n",
    "    lambda img, label: (data_augmentation(img), label),\n",
    "    num_parallel_calls=tf.data.AUTOTUNE,\n",
    ")\n",
    "# Prefetching samples in GPU memory helps maximize GPU utilization.\n",
    "train_ds = train_ds.prefetch(tf.data.AUTOTUNE)\n",
    "\n",
    "# shuffle and batch dataset\n",
    "train_ds = train_ds.shuffle(100).batch(16)"
   ]
  },
  {
   "cell_type": "code",
   "execution_count": 52,
   "id": "a5cfa4b4",
   "metadata": {},
   "outputs": [
    {
     "data": {
      "image/png": "[encoded data removed]",
      "text/plain": [
       "<Figure size 1000x1000 with 9 Axes>"
      ]
     },
     "metadata": {},
     "output_type": "display_data"
    }
   ],
   "source": [
    "plt.figure(figsize=(10, 10))\n",
    "for images, _ in train_ds.take(1):\n",
    "    for i in range(9):\n",
    "        ax = plt.subplot(3, 3, i + 1)\n",
    "        plt.imshow(images[i].numpy().astype(\"uint8\"))\n",
    "        plt.axis(\"off\")\n",
    "plt.show()"
   ]
  },
  {
   "cell_type": "code",
   "execution_count": 53,
   "id": "d7687bcf",
   "metadata": {},
   "outputs": [],
   "source": [
    "augment_model = make_base_model(x_train.shape[1:], len(np.unique(y_train)))"
   ]
  },
  {
   "cell_type": "code",
   "execution_count": 54,
   "id": "70418a69",
   "metadata": {},
   "outputs": [],
   "source": [
    "augment_model.compile(\n",
    "    optimizer=tf.keras.optimizers.Adam(),\n",
    "    loss=tf.keras.losses.SparseCategoricalCrossentropy(),\n",
    "    metrics=['accuracy']\n",
    ")"
   ]
  },
  {
   "cell_type": "code",
   "execution_count": 55,
   "id": "fa10a3fc",
   "metadata": {},
   "outputs": [
    {
     "name": "stdout",
     "output_type": "stream",
     "text": [
      "Epoch 1/3\n",
      "3750/3750 [==============================] - 6s 1ms/step - loss: 0.1918 - accuracy: 0.9429\n",
      "Epoch 2/3\n",
      "3750/3750 [==============================] - 5s 1ms/step - loss: 0.0866 - accuracy: 0.9737\n",
      "Epoch 3/3\n",
      "3750/3750 [==============================] - 5s 1ms/step - loss: 0.0601 - accuracy: 0.9816\n"
     ]
    },
    {
     "data": {
      "text/plain": [
       "<keras.callbacks.History at 0x7f9b71d4c970>"
      ]
     },
     "execution_count": 55,
     "metadata": {},
     "output_type": "execute_result"
    }
   ],
   "source": [
    "augment_model.fit(\n",
    "    train_ds,\n",
    "    batch_size=16,\n",
    "    epochs=3,\n",
    ")"
   ]
  },
  {
   "cell_type": "code",
   "execution_count": 56,
   "id": "1df476a6",
   "metadata": {},
   "outputs": [
    {
     "name": "stdout",
     "output_type": "stream",
     "text": [
      "313/313 [==============================] - 0s 905us/step - loss: 0.0973 - accuracy: 0.9733\n"
     ]
    },
    {
     "data": {
      "text/plain": [
       "[0.09725691378116608, 0.9732999801635742]"
      ]
     },
     "execution_count": 56,
     "metadata": {},
     "output_type": "execute_result"
    }
   ],
   "source": [
    "augment_model.evaluate(\n",
    "    x=x_test, y=y_test\n",
    ")"
   ]
  },
  {
   "cell_type": "markdown",
   "id": "8773640c",
   "metadata": {},
   "source": [
    "$\\Rightarrow$ as in many of these cases, we would need to train for longer to benefit from the change"
   ]
  }
 ],
 "metadata": {
  "kernelspec": {
   "display_name": "dl",
   "language": "python",
   "name": "python3"
  },
  "language_info": {
   "codemirror_mode": {
    "name": "ipython",
    "version": 3
   },
   "file_extension": ".py",
   "mimetype": "text/x-python",
   "name": "python",
   "nbconvert_exporter": "python",
   "pygments_lexer": "ipython3",
   "version": "3.9.18"
  },
  "widgets": {
   "application/vnd.jupyter.widget-state+json": {
    "state": {},
    "version_major": 2,
    "version_minor": 0
   }
  }
 },
 "nbformat": 4,
 "nbformat_minor": 5
}
