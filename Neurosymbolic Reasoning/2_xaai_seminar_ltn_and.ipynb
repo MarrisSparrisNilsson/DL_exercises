{
 "cells": [
  {
   "cell_type": "markdown",
   "id": "06828852",
   "metadata": {},
   "source": [
    "# Integrating External Knowledge using Logic Tensor Networks\n",
    "\n",
    "In this example, we want to use logic tensor networks (LTNs) to train a simple \"character\" recognizer without direct labels, but instead using knowledge about how the \"characters\" are constructed.\n",
    "\n",
    "In a first step, we need to setup the environmnent. You need to install:\n",
    "    \n",
    "   * tensorflow\n",
    "   * pillow\n",
    "   * pandas\n",
    "   * matplotlib\n",
    "    \n",
    "Furthermore, you need to download the LTN project from here: https://github.com/logictensornetworks/logictensornetworks\n",
    "\n",
    "Then, you need to enable Python to find the LTN implementation. You can do this by providing the path to where you downloaded the LTN implementation in the following cell."
   ]
  },
  {
   "cell_type": "code",
   "execution_count": 1,
   "id": "9ac95905",
   "metadata": {},
   "outputs": [],
   "source": [
    "import sys\n",
    "sys.path.append('logictensornetworks/')\n",
    "%matplotlib inline"
   ]
  },
  {
   "cell_type": "code",
   "execution_count": 2,
   "id": "07fbd0a5",
   "metadata": {},
   "outputs": [
    {
     "name": "stderr",
     "output_type": "stream",
     "text": [
      "/Users/wesflo/micromamba/envs/xaai/lib/python3.9/site-packages/scipy/__init__.py:155: UserWarning: A NumPy version >=1.18.5 and <1.25.0 is required for this version of SciPy (detected version 1.26.4\n",
      "  warnings.warn(f\"A NumPy version >={np_minversion} and <{np_maxversion}\"\n"
     ]
    }
   ],
   "source": [
    "import itertools\n",
    "import ltn\n",
    "import matplotlib.pyplot as plt\n",
    "import numpy as np\n",
    "import os\n",
    "import pandas as pd\n",
    "from PIL import Image\n",
    "import re\n",
    "import tensorflow as tf"
   ]
  },
  {
   "cell_type": "code",
   "execution_count": 3,
   "id": "3005bd82",
   "metadata": {},
   "outputs": [],
   "source": [
    "tf.keras.utils.set_random_seed(42)"
   ]
  },
  {
   "cell_type": "markdown",
   "id": "1692c825",
   "metadata": {},
   "source": [
    "## Dataset\n",
    "\n",
    "In the following, we will load the dataset. Download the dataset from Canvas and provide the appropriate paths to the `load_data()` function."
   ]
  },
  {
   "cell_type": "code",
   "execution_count": 4,
   "id": "3e8b210c",
   "metadata": {},
   "outputs": [],
   "source": [
    "def load_data(root_path, img_file, take=1000, train_ratio=0.8, batch_size=16):\n",
    "    data = pd.read_csv(img_file)\n",
    "    classes = data['char'].unique()\n",
    "    per_class = take // len(classes)\n",
    "    \n",
    "    data = data.sample(frac=1)\n",
    "    paths = [os.path.join(root_path, img)\n",
    "              for cls in classes \n",
    "              for img in data[data['char'] == cls]['image'][:per_class]]\n",
    "    np.random.shuffle(paths)\n",
    "    train_idx = int(len(paths) * train_ratio)\n",
    "    \n",
    "    train_paths = paths[:train_idx]\n",
    "    test_paths = paths[train_idx:]\n",
    "    train_imgs = [np.array(Image.open(f)) for f in train_paths]\n",
    "    test_imgs = [np.array(Image.open(f)) for f in test_paths]\n",
    "    \n",
    "    ds_train = tf.data.Dataset.from_tensor_slices(train_imgs).shuffle(train_idx).batch(batch_size)\n",
    "    ds_test = tf.data.Dataset.from_tensor_slices(test_imgs).shuffle(train_idx).batch(batch_size)\n",
    "    \n",
    "    return ds_train, ds_test, train_paths, test_paths"
   ]
  },
  {
   "cell_type": "code",
   "execution_count": 5,
   "id": "1f7dba43",
   "metadata": {},
   "outputs": [],
   "source": [
    "ds_train, ds_test, train_paths, test_paths = load_data('dataset/char/', 'dataset/char/dataset.csv')"
   ]
  },
  {
   "cell_type": "markdown",
   "id": "bad23565",
   "metadata": {},
   "source": [
    "As you can see in the following cell, our \"characters\" consists of two geometric shapes - one on top of the other. The geometric shapes are either a triangle, a rectangle or a hexagon. Your task will be to recognize the character by making use of the knowledge about which shapes correspond to which character.\n",
    "\n",
    "Therefore, we will need one recognizer for the whole character and one recognizer for the upper or lower part."
   ]
  },
  {
   "cell_type": "code",
   "execution_count": 6,
   "id": "c11629ce",
   "metadata": {},
   "outputs": [
    {
     "data": {
      "text/plain": [
       "<matplotlib.image.AxesImage at 0x1166a4400>"
      ]
     },
     "execution_count": 6,
     "metadata": {},
     "output_type": "execute_result"
    },
    {
     "data": {
      "image/png": "[encoded data removed]",
      "text/plain": [
       "<Figure size 640x480 with 1 Axes>"
      ]
     },
     "metadata": {},
     "output_type": "display_data"
    }
   ],
   "source": [
    "x = next(ds_train.as_numpy_iterator())\n",
    "plt.subplot(121)\n",
    "plt.imshow(x[0][:,:])"
   ]
  },
  {
   "cell_type": "code",
   "execution_count": 7,
   "id": "b6010b08",
   "metadata": {},
   "outputs": [
    {
     "data": {
      "text/plain": [
       "<matplotlib.image.AxesImage at 0x1595f4640>"
      ]
     },
     "execution_count": 7,
     "metadata": {},
     "output_type": "execute_result"
    },
    {
     "data": {
      "image/png": "[encoded data removed]",
      "text/plain": [
       "<Figure size 640x480 with 1 Axes>"
      ]
     },
     "metadata": {},
     "output_type": "display_data"
    }
   ],
   "source": [
    "plt.imshow(x[0][:14,:])"
   ]
  },
  {
   "cell_type": "markdown",
   "id": "3db9b08e",
   "metadata": {},
   "source": [
    "## LTN - Learning without Lables\n",
    "### Problem Setup\n",
    "\n",
    "The two networks defined in the next cell will be used to recognize the \"characters\" (`char_model`) and geometric shapes (`part_model`) respectively."
   ]
  },
  {
   "cell_type": "code",
   "execution_count": 8,
   "id": "8cf89033",
   "metadata": {},
   "outputs": [],
   "source": [
    "char_num = 9\n",
    "part_num = 3\n",
    "\n",
    "char_model = tf.keras.Sequential(\n",
    "    [\n",
    "        tf.keras.Input(shape=(28, 28)),\n",
    "        tf.keras.layers.Reshape((28, 28, 1)),\n",
    "        tf.keras.layers.Rescaling(scale=1./255),\n",
    "        tf.keras.layers.Conv2D(32, kernel_size=(3, 3), activation=\"relu\"),\n",
    "        tf.keras.layers.MaxPooling2D(pool_size=(2, 2)),\n",
    "        tf.keras.layers.Conv2D(64, kernel_size=(3, 3), activation=\"relu\"),\n",
    "        tf.keras.layers.MaxPooling2D(pool_size=(2, 2)),\n",
    "        tf.keras.layers.Flatten(),\n",
    "        tf.keras.layers.Dropout(0.5),\n",
    "        tf.keras.layers.Dense(char_num),\n",
    "    ]\n",
    ")\n",
    "\n",
    "part_model = tf.keras.Sequential(\n",
    "    [\n",
    "        tf.keras.Input(shape=(14, 28)),\n",
    "        tf.keras.layers.Reshape((14, 28, 1)),\n",
    "        tf.keras.layers.Rescaling(scale=1./255),\n",
    "        tf.keras.layers.Conv2D(32, kernel_size=(3, 3), activation=\"relu\"),\n",
    "        tf.keras.layers.MaxPooling2D(pool_size=(2, 2)),\n",
    "        tf.keras.layers.Conv2D(64, kernel_size=(3, 3), activation=\"relu\"),\n",
    "        tf.keras.layers.MaxPooling2D(pool_size=(2, 2)),\n",
    "        tf.keras.layers.Flatten(),\n",
    "        tf.keras.layers.Dropout(0.5),\n",
    "        tf.keras.layers.Dense(part_num),\n",
    "    ]\n",
    ")"
   ]
  },
  {
   "cell_type": "markdown",
   "id": "d8ebdba5",
   "metadata": {},
   "source": [
    "In the following three cells, we setup different constructs required for the LTN:\n",
    "    \n",
    "   * two predicates, $Char$ and $Part$, which evaluate to True if the given image contains the passed character/shape\n",
    "   * three variables representing a character $c \\in Chars$ or shapes $p1, p2 \\in Parts$ respectively\n",
    "   * required logic conjunctions and quantifiers\n",
    "   * the knowledge base, which encodes which character is made of which shapes\n",
    "   * a predicate implementation for the $Composed$ predicate, which evaluates to True if the given combination of character, upper shape, and lower shape are valid, i.e., the character is composed of the upper shape and the lower shape in their respective position"
   ]
  },
  {
   "cell_type": "code",
   "execution_count": 9,
   "id": "54478910",
   "metadata": {},
   "outputs": [],
   "source": [
    "Char = ltn.Predicate.FromLogits(char_model, activation_function=\"softmax\")\n",
    "Part = ltn.Predicate.FromLogits(part_model, activation_function=\"softmax\")\n",
    "\n",
    "c = ltn.Variable(\"char\", range(char_num))\n",
    "p1 = ltn.Variable(\"part1\", range(part_num))\n",
    "p2 = ltn.Variable(\"part2\", range(part_num))\n",
    "\n",
    "And = ltn.Wrapper_Connective(ltn.fuzzy_ops.And_Prod())\n",
    "Implies = ltn.Wrapper_Connective(ltn.fuzzy_ops.Implies_Reichenbach())\n",
    "Forall = ltn.Wrapper_Quantifier(ltn.fuzzy_ops.Aggreg_pMeanError(),semantics=\"forall\")\n",
    "Exists = ltn.Wrapper_Quantifier(ltn.fuzzy_ops.Aggreg_pMean(),semantics=\"exists\")"
   ]
  },
  {
   "cell_type": "code",
   "execution_count": 10,
   "id": "4d08e0f9",
   "metadata": {},
   "outputs": [],
   "source": [
    "parts = [3, 4, 6]\n",
    "chars = itertools.product(range(len(parts)), repeat=2)\n",
    "knowledge_base = [[i, c[0], c[1]] for i, c in enumerate(chars)]\n",
    "knowledge_base = np.array(knowledge_base)"
   ]
  },
  {
   "cell_type": "code",
   "execution_count": 11,
   "id": "463f0778",
   "metadata": {},
   "outputs": [],
   "source": [
    "class tf_ComposeModel(tf.keras.Model):\n",
    "    \"\"\" Model checking composition.\"\"\"\n",
    "    def __init__(self, knowledge_base):\n",
    "        super(tf_ComposeModel, self).__init__()\n",
    "        # encode composition: 100 for char, 10 for part1 and 1 for part2 \n",
    "        self.kb = (knowledge_base * np.array([100, 10, 1])).sum(axis=1)\n",
    "    \n",
    "    def call(self, inputs):\n",
    "        char = tf.math.multiply(inputs[0], 100)\n",
    "        part1 = tf.math.multiply(inputs[1], 10)\n",
    "        part2 = inputs[2]\n",
    "        \n",
    "        encoded = tf.math.add_n([char, part1, part2])\n",
    "        locations = []\n",
    "        # find each valid combination of char and its parts\n",
    "        for pattern in self.kb:\n",
    "            locations.append(tf.math.equal(encoded, pattern))\n",
    "            \n",
    "        # combine locations into one Boolean vector of valid locations\n",
    "        locations = tf.concat(locations, axis=-1)\n",
    "        locations = tf.math.reduce_any(locations, axis=1)\n",
    "        \n",
    "        return tf.expand_dims(locations, axis=-1)"
   ]
  },
  {
   "cell_type": "markdown",
   "id": "7deff212",
   "metadata": {},
   "source": [
    "$$\n",
    "    \\mathbf{D}(upper) = \\mathbf{D}(lower) = \\mathbf{D}(x) = images \\\\\n",
    "    \\mathbf{D}(c) = characters \\\\\n",
    "    \\mathbf{D}(p1) = \\mathbf{D}(p2) = parts \\\\\n",
    "    \\forall Diag(x, upper, lower) (\\exists c, p1, p2: Composed(c, p1, p2) (Char(x, c) \\land (Part(upper, p1) \\land Part(lower, p2))))\n",
    "$$\n",
    "\n",
    "The idea here is that for every character (and its upper and lower part), there is a label configuration, so that the configuration conforms to the specification of a character and the character and shape recognition models recognize the given images as those labels."
   ]
  },
  {
   "cell_type": "code",
   "execution_count": 12,
   "id": "a7993a62",
   "metadata": {
    "scrolled": false
   },
   "outputs": [
    {
     "name": "stdout",
     "output_type": "stream",
     "text": [
      "WARNING:tensorflow:From /Users/wesflo/micromamba/envs/xaai/lib/python3.9/site-packages/tensorflow/python/autograph/pyct/static_analysis/liveness.py:83: Analyzer.lamba_check (from tensorflow.python.autograph.pyct.static_analysis.liveness) is deprecated and will be removed after 2023-09-23.\n",
      "Instructions for updating:\n",
      "Lambda fuctions will be no more assumed to be used in the statement where they are used, or at least in the same block. https://github.com/tensorflow/tensorflow/issues/56089\n"
     ]
    },
    {
     "name": "stderr",
     "output_type": "stream",
     "text": [
      "2025-04-07 12:19:52.595571: W tensorflow/tsl/platform/profile_utils/cpu_utils.cc:128] Failed to get CPU frequency: 0 Hz\n"
     ]
    },
    {
     "data": {
      "text/plain": [
       "<tf.Tensor: shape=(), dtype=float32, numpy=0.012992024>"
      ]
     },
     "execution_count": 12,
     "metadata": {},
     "output_type": "execute_result"
    }
   ],
   "source": [
    "Composed = ltn.Predicate(tf_ComposeModel(knowledge_base))\n",
    "\n",
    "### Axioms\n",
    "@tf.function\n",
    "def axioms(images_x, p_schedule=tf.constant(2.)):   \n",
    "    images_upper = ltn.Variable(\"upper\", images_x[:, :14, :])\n",
    "    images_lower = ltn.Variable(\"lower\", images_x[:, 14:, :])\n",
    "    images_x = ltn.Variable(\"x\", images_x)\n",
    "    axiom = Forall(\n",
    "            ltn.diag(images_x,images_upper,images_lower),\n",
    "            Exists(\n",
    "                (c, p1, p2),\n",
    "                And(Char([images_x, c]), And(Part([images_upper, p1]), Part([images_lower, p2]))),\n",
    "                mask=Composed([c, p1, p2]),\n",
    "                p=p_schedule\n",
    "            ),\n",
    "            p=2\n",
    "        )\n",
    "    sat = axiom.tensor\n",
    "    return sat\n",
    "\n",
    "images_x = next(ds_train.as_numpy_iterator())\n",
    "axioms(images_x)"
   ]
  },
  {
   "cell_type": "markdown",
   "id": "cf59414f",
   "metadata": {},
   "source": [
    "### Training\n",
    "\n",
    "Run the following four cells to train the LTN to satisfy the defined logic formula for the training dataset."
   ]
  },
  {
   "cell_type": "code",
   "execution_count": 13,
   "id": "7964a3d8",
   "metadata": {},
   "outputs": [],
   "source": [
    "optimizer = tf.keras.optimizers.legacy.Adam(0.001)\n",
    "metrics_dict = {\n",
    "    'train_loss': tf.keras.metrics.Mean(name=\"train_loss\"),\n",
    "    'test_loss': tf.keras.metrics.Mean(name=\"test_loss\"),\n",
    "}\n",
    "\n",
    "@tf.function\n",
    "def train_step(images_x, **parameters):\n",
    "    # loss\n",
    "    with tf.GradientTape(persistent=True) as tape:\n",
    "        loss = 1.- axioms(images_x, **parameters)\n",
    "    # train Char model\n",
    "    gradients = tape.gradient(loss, char_model.trainable_variables)\n",
    "    optimizer.apply_gradients(zip(gradients, char_model.trainable_variables))\n",
    "    # train Part model\n",
    "    gradients = tape.gradient(loss, part_model.trainable_variables)\n",
    "    optimizer.apply_gradients(zip(gradients, part_model.trainable_variables))\n",
    "    metrics_dict['train_loss'](loss)\n",
    "    \n",
    "@tf.function\n",
    "def test_step(images_x, **parameters):\n",
    "    # loss\n",
    "    loss = 1.- axioms(images_x, **parameters)\n",
    "    metrics_dict['test_loss'](loss)"
   ]
  },
  {
   "cell_type": "code",
   "execution_count": 14,
   "id": "64e43b09",
   "metadata": {},
   "outputs": [],
   "source": [
    "from collections import defaultdict\n",
    "\n",
    "scheduled_parameters = defaultdict(lambda: {})\n",
    "for epoch in range(0,4):\n",
    "    scheduled_parameters[epoch] = {\"p_schedule\":tf.constant(1.)}\n",
    "for epoch in range(4,8):\n",
    "    scheduled_parameters[epoch] = {\"p_schedule\":tf.constant(2.)}\n",
    "for epoch in range(8,12):\n",
    "    scheduled_parameters[epoch] = {\"p_schedule\":tf.constant(4.)}\n",
    "for epoch in range(12,20):\n",
    "    scheduled_parameters[epoch] = {\"p_schedule\":tf.constant(6.)}\n",
    "for epoch in range(20,40):\n",
    "    scheduled_parameters[epoch] = {\"p_schedule\":tf.constant(8.)}"
   ]
  },
  {
   "cell_type": "code",
   "execution_count": 15,
   "id": "ff669e03",
   "metadata": {},
   "outputs": [],
   "source": [
    "def run_training(epochs, metrics_dict, ds_train, ds_test, train_step, test_step, scheduled_parameters):\n",
    "    template = \"Epoch {}\"\n",
    "    for metrics_label in metrics_dict.keys():\n",
    "        template += \", %s: {:.4f}\" % metrics_label\n",
    "\n",
    "    for epoch in range(epochs):\n",
    "        for metrics in metrics_dict.values():\n",
    "            metrics.reset_states()\n",
    "\n",
    "        for batch_elements in ds_train:\n",
    "            train_step(batch_elements,**scheduled_parameters[epoch])\n",
    "        for batch_elements in ds_test:\n",
    "            test_step(batch_elements,**scheduled_parameters[epoch])\n",
    "\n",
    "        metrics_results = [metrics.result() for metrics in metrics_dict.values()]\n",
    "        print(template.format(epoch,*metrics_results))"
   ]
  },
  {
   "cell_type": "code",
   "execution_count": 16,
   "id": "117de0f3",
   "metadata": {},
   "outputs": [
    {
     "name": "stdout",
     "output_type": "stream",
     "text": [
      "Epoch 0, train_loss: 0.9105, test_loss: 0.8888\n",
      "Epoch 1, train_loss: 0.8888, test_loss: 0.8888\n",
      "Epoch 2, train_loss: 0.8888, test_loss: 0.8888\n",
      "Epoch 3, train_loss: 0.8888, test_loss: 0.8888\n",
      "Epoch 4, train_loss: 0.6667, test_loss: 0.6667\n",
      "Epoch 5, train_loss: 0.6667, test_loss: 0.6667\n",
      "Epoch 6, train_loss: 0.6667, test_loss: 0.6667\n",
      "Epoch 7, train_loss: 0.6667, test_loss: 0.6667\n",
      "Epoch 8, train_loss: 0.4227, test_loss: 0.4227\n",
      "Epoch 9, train_loss: 0.4227, test_loss: 0.4227\n",
      "Epoch 10, train_loss: 0.4227, test_loss: 0.4227\n",
      "Epoch 11, train_loss: 0.4227, test_loss: 0.4227\n",
      "Epoch 12, train_loss: 0.3067, test_loss: 0.3067\n",
      "Epoch 13, train_loss: 0.3067, test_loss: 0.3067\n",
      "Epoch 14, train_loss: 0.3067, test_loss: 0.3067\n",
      "Epoch 15, train_loss: 0.3067, test_loss: 0.3067\n",
      "Epoch 16, train_loss: 0.3067, test_loss: 0.3067\n",
      "Epoch 17, train_loss: 0.3067, test_loss: 0.3067\n",
      "Epoch 18, train_loss: 0.3067, test_loss: 0.3067\n",
      "Epoch 19, train_loss: 0.3067, test_loss: 0.3067\n",
      "Epoch 20, train_loss: 0.2402, test_loss: 0.2402\n",
      "Epoch 21, train_loss: 0.2402, test_loss: 0.2402\n",
      "Epoch 22, train_loss: 0.2402, test_loss: 0.2402\n",
      "Epoch 23, train_loss: 0.2402, test_loss: 0.2402\n",
      "Epoch 24, train_loss: 0.2402, test_loss: 0.2402\n",
      "Epoch 25, train_loss: 0.2402, test_loss: 0.2402\n",
      "Epoch 26, train_loss: 0.2402, test_loss: 0.2402\n",
      "Epoch 27, train_loss: 0.2402, test_loss: 0.2402\n",
      "Epoch 28, train_loss: 0.2402, test_loss: 0.2402\n",
      "Epoch 29, train_loss: 0.2402, test_loss: 0.2402\n",
      "Epoch 30, train_loss: 0.2402, test_loss: 0.2402\n",
      "Epoch 31, train_loss: 0.2402, test_loss: 0.2402\n",
      "Epoch 32, train_loss: 0.2402, test_loss: 0.2402\n",
      "Epoch 33, train_loss: 0.2402, test_loss: 0.2402\n",
      "Epoch 34, train_loss: 0.2402, test_loss: 0.2402\n",
      "Epoch 35, train_loss: 0.2402, test_loss: 0.2402\n",
      "Epoch 36, train_loss: 0.2402, test_loss: 0.2402\n",
      "Epoch 37, train_loss: 0.2402, test_loss: 0.2402\n",
      "Epoch 38, train_loss: 0.2402, test_loss: 0.2402\n",
      "Epoch 39, train_loss: 0.2402, test_loss: 0.2402\n",
      "Epoch 40, train_loss: 0.6667, test_loss: 0.6667\n",
      "Epoch 41, train_loss: 0.6667, test_loss: 0.6667\n",
      "Epoch 42, train_loss: 0.6667, test_loss: 0.6667\n",
      "Epoch 43, train_loss: 0.6667, test_loss: 0.6667\n",
      "Epoch 44, train_loss: 0.6667, test_loss: 0.6667\n",
      "Epoch 45, train_loss: 0.6667, test_loss: 0.6667\n",
      "Epoch 46, train_loss: 0.6667, test_loss: 0.6667\n",
      "Epoch 47, train_loss: 0.6667, test_loss: 0.6667\n",
      "Epoch 48, train_loss: 0.6667, test_loss: 0.6667\n",
      "Epoch 49, train_loss: 0.6667, test_loss: 0.6667\n"
     ]
    }
   ],
   "source": [
    "run_training(50, metrics_dict, ds_train, ds_test, train_step, test_step, scheduled_parameters)"
   ]
  },
  {
   "cell_type": "markdown",
   "id": "e669144e",
   "metadata": {},
   "source": [
    "### Evaluation\n",
    "\n",
    "Run the following four cells to evaluate the character and shape recognizer you trained."
   ]
  },
  {
   "cell_type": "code",
   "execution_count": 17,
   "id": "bcc1406e",
   "metadata": {},
   "outputs": [],
   "source": [
    "def char_test_generator(paths):\n",
    "    batch_size = 8\n",
    "    classes = 9\n",
    "    images = []\n",
    "    labels = []\n",
    "    \n",
    "    batches = len(paths) // batch_size\n",
    "    matcher = re.compile('.*/(\\d+)_.*')\n",
    "    for idx in range(batches * batch_size):\n",
    "        cls = int(matcher.match(paths[idx]).group(1))\n",
    "        label = np.zeros(classes)\n",
    "        label[cls] = 1\n",
    "        images.append(np.array(Image.open(paths[idx])))\n",
    "        labels.append(label)\n",
    "    \n",
    "    print(len(images))\n",
    "    for i in range(batches):\n",
    "        \n",
    "        inputs = np.array(images[i*batch_size:i*batch_size+batch_size])\n",
    "        targets = np.array(labels[i*batch_size:i*batch_size+batch_size])\n",
    "        \n",
    "        yield inputs, targets"
   ]
  },
  {
   "cell_type": "code",
   "execution_count": 18,
   "id": "c42a1831",
   "metadata": {},
   "outputs": [],
   "source": [
    "def part_test_generator(paths):\n",
    "   \n",
    "    label_map = {'3': [1, 0, 0], '4': [0, 1, 0], '6': [0, 0, 1]}\n",
    "    \n",
    "    images = []\n",
    "    labels = []\n",
    "    for cls in label_map:\n",
    "        matcher = re.compile(f'.*_{cls}_\\d+.png')    \n",
    "        all_paths = [path for path in paths if matcher.match(path)]\n",
    "        images += [np.array(Image.open(f))[14:, :] for f in all_paths]\n",
    "        labels += [label_map[cls] for _ in range(len(all_paths))]\n",
    "    \n",
    "    print(len(images))\n",
    "    for i in range(len(images)):\n",
    "        \n",
    "        inputs = [images[i], ]\n",
    "        targets = [labels[i], ]\n",
    "        \n",
    "        yield np.array(inputs), np.array(targets)"
   ]
  },
  {
   "cell_type": "code",
   "execution_count": 19,
   "id": "6dc28f78",
   "metadata": {},
   "outputs": [
    {
     "name": "stdout",
     "output_type": "stream",
     "text": [
      "200\n",
      "25/25 [==============================] - 0s 12ms/step - loss: 3.9367 - accuracy: 0.1500\n"
     ]
    },
    {
     "data": {
      "text/plain": [
       "[3.9366774559020996, 0.15000000596046448]"
      ]
     },
     "execution_count": 19,
     "metadata": {},
     "output_type": "execute_result"
    }
   ],
   "source": [
    "char_model.compile(loss='categorical_crossentropy', metrics=['accuracy'])\n",
    "char_model.evaluate(char_test_generator(test_paths))"
   ]
  },
  {
   "cell_type": "code",
   "execution_count": 20,
   "id": "46023851",
   "metadata": {},
   "outputs": [
    {
     "name": "stdout",
     "output_type": "stream",
     "text": [
      "200\n",
      "200/200 [==============================] - 0s 450us/step - loss: 5.3996 - accuracy: 0.3350\n"
     ]
    },
    {
     "data": {
      "text/plain": [
       "[5.399562835693359, 0.33500000834465027]"
      ]
     },
     "execution_count": 20,
     "metadata": {},
     "output_type": "execute_result"
    }
   ],
   "source": [
    "part_model.compile(loss='categorical_crossentropy', metrics=['accuracy'])\n",
    "part_model.evaluate(part_test_generator(test_paths))"
   ]
  },
  {
   "cell_type": "markdown",
   "id": "d82d55df",
   "metadata": {},
   "source": [
    "Well, that did not go so well $\\dots$"
   ]
  },
  {
   "cell_type": "markdown",
   "id": "9af12232",
   "metadata": {},
   "source": [
    "**Investigation:**\n"
   ]
  },
  {
   "cell_type": "code",
   "execution_count": 21,
   "id": "88d18211",
   "metadata": {},
   "outputs": [
    {
     "name": "stdout",
     "output_type": "stream",
     "text": [
      "1/1 [==============================] - 0s 170ms/step\n"
     ]
    },
    {
     "data": {
      "text/plain": [
       "array([[-21.323973 , -22.23111  , -22.657082 , -22.357914 , -12.8874235,\n",
       "        -10.414199 , -24.456709 , -10.739753 ,  27.041412 ],\n",
       "       [-20.525139 , -21.57588  , -21.992674 , -21.59909  , -12.546202 ,\n",
       "        -10.179843 , -23.545946 , -10.538203 ,  26.220236 ],\n",
       "       [-21.133667 , -22.223299 , -22.530176 , -22.310696 , -12.931282 ,\n",
       "        -10.472807 , -24.279278 , -10.947537 ,  26.90103  ],\n",
       "       [-21.94976  , -22.826948 , -23.4086   , -22.958443 , -13.155742 ,\n",
       "        -10.813737 , -25.064543 , -11.013301 ,  27.762316 ],\n",
       "       [-20.652788 , -21.521185 , -22.009521 , -21.573751 , -12.449412 ,\n",
       "        -10.131447 , -23.613663 , -10.486412 ,  26.144053 ],\n",
       "       [-21.59031  , -22.542288 , -22.89959  , -22.619137 , -13.038065 ,\n",
       "        -10.609933 , -24.672417 , -11.009699 ,  27.314442 ],\n",
       "       [-20.856016 , -21.77502  , -22.249237 , -21.998976 , -12.613991 ,\n",
       "        -10.2217245, -23.897747 , -10.601754 ,  26.504374 ],\n",
       "       [-21.644077 , -22.532656 , -23.084068 , -22.653994 , -13.035951 ,\n",
       "        -10.652104 , -24.704292 , -10.884648 ,  27.38379  ],\n",
       "       [-21.34636  , -22.257883 , -22.730463 , -22.403368 , -12.948212 ,\n",
       "        -10.482787 , -24.473406 , -10.831502 ,  26.97624  ],\n",
       "       [-21.361847 , -22.404692 , -22.90037  , -22.482847 , -13.069942 ,\n",
       "        -10.542326 , -24.64585  , -10.899745 ,  27.323944 ],\n",
       "       [-21.888449 , -22.869183 , -23.39652  , -22.956875 , -13.247671 ,\n",
       "        -10.817164 , -25.130999 , -11.106722 ,  27.737257 ],\n",
       "       [-20.838026 , -21.760788 , -22.044859 , -21.914326 , -12.566691 ,\n",
       "        -10.195879 , -23.805254 , -10.642571 ,  26.38424  ],\n",
       "       [-20.945993 , -21.775978 , -22.314245 , -21.970736 , -12.631844 ,\n",
       "        -10.292681 , -23.912422 , -10.554412 ,  26.475632 ],\n",
       "       [-21.635603 , -22.52256  , -23.01693  , -22.636038 , -13.017202 ,\n",
       "        -10.629883 , -24.76646  , -10.93629  ,  27.330433 ],\n",
       "       [-21.914507 , -22.938469 , -23.40022  , -22.966928 , -13.32461  ,\n",
       "        -10.852751 , -25.096079 , -11.150149 ,  27.899343 ],\n",
       "       [-21.279451 , -22.044598 , -22.55865  , -22.300987 , -12.687189 ,\n",
       "        -10.346136 , -24.296494 , -10.615593 ,  26.772825 ]],\n",
       "      dtype=float32)"
      ]
     },
     "execution_count": 21,
     "metadata": {},
     "output_type": "execute_result"
    }
   ],
   "source": [
    "char_model.predict(x)"
   ]
  },
  {
   "cell_type": "code",
   "execution_count": 22,
   "id": "3fde50bf",
   "metadata": {},
   "outputs": [
    {
     "name": "stdout",
     "output_type": "stream",
     "text": [
      "1/1 [==============================] - 0s 42ms/step\n"
     ]
    },
    {
     "data": {
      "text/plain": [
       "array([[-15.156167,  -9.455376,  16.075562],\n",
       "       [-15.34148 ,  -9.686714,  16.325396],\n",
       "       [-14.941326,  -9.411112,  16.001743],\n",
       "       [-15.956961, -10.078433,  16.995285],\n",
       "       [-14.570919,  -9.202365,  15.584868],\n",
       "       [-15.215423,  -9.55377 ,  16.083431],\n",
       "       [-15.133117,  -9.546179,  16.267488],\n",
       "       [-15.806797,  -9.909636,  16.786358],\n",
       "       [-15.014275,  -9.435064,  15.984591],\n",
       "       [-15.5041  ,  -9.725113,  16.382042],\n",
       "       [-15.585938,  -9.830752,  16.562185],\n",
       "       [-14.594275,  -9.143758,  15.685193],\n",
       "       [-15.168037,  -9.575813,  16.08598 ],\n",
       "       [-15.202139,  -9.557909,  16.140076],\n",
       "       [-16.173977, -10.178425,  17.12558 ],\n",
       "       [-15.031429,  -9.414162,  16.012066]], dtype=float32)"
      ]
     },
     "execution_count": 22,
     "metadata": {},
     "output_type": "execute_result"
    }
   ],
   "source": [
    "part_model.predict(x[:, :14, :])"
   ]
  },
  {
   "cell_type": "code",
   "execution_count": 23,
   "id": "a42bf09a",
   "metadata": {},
   "outputs": [
    {
     "name": "stdout",
     "output_type": "stream",
     "text": [
      "1/1 [==============================] - 0s 13ms/step\n"
     ]
    },
    {
     "data": {
      "text/plain": [
       "array([[-14.9745655,  -9.467346 ,  15.920385 ],\n",
       "       [-14.551055 ,  -9.111677 ,  15.48194  ],\n",
       "       [-15.920509 ,  -9.944136 ,  16.891329 ],\n",
       "       [-15.13188  ,  -9.506689 ,  16.05854  ],\n",
       "       [-15.072321 ,  -9.495896 ,  16.042068 ],\n",
       "       [-15.669329 ,  -9.863976 ,  16.513905 ],\n",
       "       [-14.655332 ,  -9.212194 ,  15.548814 ],\n",
       "       [-15.041728 ,  -9.53648  ,  15.961189 ],\n",
       "       [-15.827149 ,  -9.953926 ,  16.78785  ],\n",
       "       [-15.195608 ,  -9.614995 ,  16.231865 ],\n",
       "       [-15.713842 ,  -9.954531 ,  16.700493 ],\n",
       "       [-15.273344 ,  -9.597028 ,  16.119091 ],\n",
       "       [-14.8319645,  -9.35524  ,  15.783218 ],\n",
       "       [-15.49655  ,  -9.789387 ,  16.523205 ],\n",
       "       [-15.281614 ,  -9.675147 ,  16.27972  ],\n",
       "       [-14.824499 ,  -9.335472 ,  15.787148 ]], dtype=float32)"
      ]
     },
     "execution_count": 23,
     "metadata": {},
     "output_type": "execute_result"
    }
   ],
   "source": [
    "part_model.predict(x[:, 14:, :])"
   ]
  },
  {
   "cell_type": "code",
   "execution_count": 24,
   "id": "e7ab6cc0",
   "metadata": {},
   "outputs": [
    {
     "data": {
      "text/plain": [
       "<matplotlib.image.AxesImage at 0x17dcf2220>"
      ]
     },
     "execution_count": 24,
     "metadata": {},
     "output_type": "execute_result"
    },
    {
     "data": {
      "image/png": "[encoded data removed]",
      "text/plain": [
       "<Figure size 640x480 with 1 Axes>"
      ]
     },
     "metadata": {},
     "output_type": "display_data"
    }
   ],
   "source": [
    "plt.subplot(121)\n",
    "plt.imshow(x[1][:,:])"
   ]
  }
 ],
 "metadata": {
  "kernelspec": {
   "display_name": "xaai",
   "language": "python",
   "name": "xaai"
  },
  "language_info": {
   "codemirror_mode": {
    "name": "ipython",
    "version": 3
   },
   "file_extension": ".py",
   "mimetype": "text/x-python",
   "name": "python",
   "nbconvert_exporter": "python",
   "pygments_lexer": "ipython3",
   "version": "3.9.19"
  },
  "widgets": {
   "application/vnd.jupyter.widget-state+json": {
    "state": {},
    "version_major": 2,
    "version_minor": 0
   }
  }
 },
 "nbformat": 4,
 "nbformat_minor": 5
}
