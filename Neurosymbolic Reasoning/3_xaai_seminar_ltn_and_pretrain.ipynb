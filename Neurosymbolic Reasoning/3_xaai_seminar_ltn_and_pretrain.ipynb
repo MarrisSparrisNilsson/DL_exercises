{
 "cells": [
  {
   "cell_type": "markdown",
   "id": "06828852",
   "metadata": {},
   "source": [
    "# Integrating External Knowledge using Logic Tensor Networks\n",
    "\n",
    "In this example, we want to use logic tensor networks (LTNs) to train a simple \"character\" recognizer without direct labels, but instead using knowledge about how the \"characters\" are constructed.\n",
    "\n",
    "In a first step, we need to setup the environmnent. You need to install:\n",
    "    \n",
    "   * tensorflow\n",
    "   * pillow\n",
    "   * pandas\n",
    "   * matplotlib\n",
    "    \n",
    "Furthermore, you need to download the LTN project from here: https://github.com/logictensornetworks/logictensornetworks\n",
    "\n",
    "Then, you need to enable Python to find the LTN implementation. You can do this by providing the path to where you downloaded the LTN implementation in the following cell."
   ]
  },
  {
   "cell_type": "code",
   "execution_count": 1,
   "id": "9ac95905",
   "metadata": {},
   "outputs": [],
   "source": [
    "import sys\n",
    "sys.path.append('logictensornetworks/')\n",
    "%matplotlib inline"
   ]
  },
  {
   "cell_type": "code",
   "execution_count": 2,
   "id": "07fbd0a5",
   "metadata": {},
   "outputs": [
    {
     "name": "stderr",
     "output_type": "stream",
     "text": [
      "/Users/wesflo/micromamba/envs/xaai/lib/python3.9/site-packages/scipy/__init__.py:155: UserWarning: A NumPy version >=1.18.5 and <1.25.0 is required for this version of SciPy (detected version 1.26.4\n",
      "  warnings.warn(f\"A NumPy version >={np_minversion} and <{np_maxversion}\"\n"
     ]
    }
   ],
   "source": [
    "import itertools\n",
    "import ltn\n",
    "import matplotlib.pyplot as plt\n",
    "import numpy as np\n",
    "import os\n",
    "import pandas as pd\n",
    "from PIL import Image\n",
    "import re\n",
    "import tensorflow as tf"
   ]
  },
  {
   "cell_type": "code",
   "execution_count": 4,
   "id": "952c63a0",
   "metadata": {},
   "outputs": [],
   "source": [
    "tf.keras.utils.set_random_seed(42)"
   ]
  },
  {
   "cell_type": "markdown",
   "id": "1692c825",
   "metadata": {},
   "source": [
    "## Dataset\n",
    "\n",
    "In the following, we will load the dataset. Download the dataset from Canvas and provide the appropriate paths to the `load_data()` function."
   ]
  },
  {
   "cell_type": "code",
   "execution_count": 5,
   "id": "3e8b210c",
   "metadata": {},
   "outputs": [],
   "source": [
    "def load_data(root_path, img_file, take=1000, train_ratio=0.8, batch_size=16):\n",
    "    data = pd.read_csv(img_file)\n",
    "    classes = data['char'].unique()\n",
    "    per_class = take // len(classes)\n",
    "    \n",
    "    data = data.sample(frac=1)\n",
    "    paths = [os.path.join(root_path, img)\n",
    "              for cls in classes \n",
    "              for img in data[data['char'] == cls]['image'][:per_class]]\n",
    "    np.random.shuffle(paths)\n",
    "    train_idx = int(len(paths) * train_ratio)\n",
    "    \n",
    "    train_paths = paths[:train_idx]\n",
    "    test_paths = paths[train_idx:]\n",
    "    train_imgs = [np.array(Image.open(f)) for f in train_paths]\n",
    "    test_imgs = [np.array(Image.open(f)) for f in test_paths]\n",
    "    \n",
    "    ds_train = tf.data.Dataset.from_tensor_slices(train_imgs).shuffle(train_idx).batch(batch_size)\n",
    "    ds_test = tf.data.Dataset.from_tensor_slices(test_imgs).shuffle(train_idx).batch(batch_size)\n",
    "    \n",
    "    return ds_train, ds_test, train_paths, test_paths"
   ]
  },
  {
   "cell_type": "code",
   "execution_count": 6,
   "id": "1f7dba43",
   "metadata": {},
   "outputs": [],
   "source": [
    "ds_train, ds_test, train_paths, test_paths = load_data('dataset/char/', 'dataset/char/dataset.csv')"
   ]
  },
  {
   "cell_type": "markdown",
   "id": "bad23565",
   "metadata": {},
   "source": [
    "As you can see in the following cell, our \"characters\" consists of two geometric shapes - one on top of the other. The geometric shapes are either a triangle, a rectangle or a hexagon. Your task will be to recognize the character by making use of the knowledge about which shapes correspond to which character.\n",
    "\n",
    "Therefore, we will need one recognizer for the whole character and one recognizer for the upper or lower part."
   ]
  },
  {
   "cell_type": "code",
   "execution_count": 7,
   "id": "c11629ce",
   "metadata": {},
   "outputs": [
    {
     "data": {
      "text/plain": [
       "<matplotlib.image.AxesImage at 0x15b311ca0>"
      ]
     },
     "execution_count": 7,
     "metadata": {},
     "output_type": "execute_result"
    },
    {
     "data": {
      "image/png": "[encoded data removed]",
      "text/plain": [
       "<Figure size 640x480 with 1 Axes>"
      ]
     },
     "metadata": {},
     "output_type": "display_data"
    }
   ],
   "source": [
    "x = next(ds_train.as_numpy_iterator())\n",
    "plt.subplot(121)\n",
    "plt.imshow(x[0][:,:])"
   ]
  },
  {
   "cell_type": "code",
   "execution_count": 8,
   "id": "b6010b08",
   "metadata": {},
   "outputs": [
    {
     "data": {
      "text/plain": [
       "<matplotlib.image.AxesImage at 0x15b4408e0>"
      ]
     },
     "execution_count": 8,
     "metadata": {},
     "output_type": "execute_result"
    },
    {
     "data": {
      "image/png": "[encoded data removed]",
      "text/plain": [
       "<Figure size 640x480 with 1 Axes>"
      ]
     },
     "metadata": {},
     "output_type": "display_data"
    }
   ],
   "source": [
    "plt.imshow(x[0][:14,:])"
   ]
  },
  {
   "cell_type": "markdown",
   "id": "3db9b08e",
   "metadata": {},
   "source": [
    "## LTN - Learning with Shape Lables\n",
    "### Problem Setup\n",
    "\n",
    "The two networks defined in the next cell will be used to recognize the \"characters\" (`char_model`) and geometric shapes (`part_model`) respectively."
   ]
  },
  {
   "cell_type": "code",
   "execution_count": 9,
   "id": "8cf89033",
   "metadata": {},
   "outputs": [],
   "source": [
    "char_num = 9\n",
    "part_num = 3\n",
    "\n",
    "char_model = tf.keras.Sequential(\n",
    "    [\n",
    "        tf.keras.Input(shape=(28, 28)),\n",
    "        tf.keras.layers.Reshape((28, 28, 1)),\n",
    "        tf.keras.layers.Rescaling(scale=1./255),\n",
    "        tf.keras.layers.Conv2D(32, kernel_size=(3, 3), activation=\"relu\"),\n",
    "        tf.keras.layers.MaxPooling2D(pool_size=(2, 2)),\n",
    "        tf.keras.layers.Conv2D(64, kernel_size=(3, 3), activation=\"relu\"),\n",
    "        tf.keras.layers.MaxPooling2D(pool_size=(2, 2)),\n",
    "        tf.keras.layers.Flatten(),\n",
    "        tf.keras.layers.Dropout(0.5),\n",
    "        tf.keras.layers.Dense(char_num),\n",
    "    ]\n",
    ")\n",
    "\n",
    "part_model = tf.keras.Sequential(\n",
    "    [\n",
    "        tf.keras.Input(shape=(14, 28)),\n",
    "        tf.keras.layers.Reshape((14, 28, 1)),\n",
    "        tf.keras.layers.Rescaling(scale=1./255),\n",
    "        tf.keras.layers.Conv2D(32, kernel_size=(3, 3), activation=\"relu\"),\n",
    "        tf.keras.layers.MaxPooling2D(pool_size=(2, 2)),\n",
    "        tf.keras.layers.Conv2D(64, kernel_size=(3, 3), activation=\"relu\"),\n",
    "        tf.keras.layers.MaxPooling2D(pool_size=(2, 2)),\n",
    "        tf.keras.layers.Flatten(),\n",
    "        tf.keras.layers.Dropout(0.5),\n",
    "        tf.keras.layers.Dense(part_num),\n",
    "    ]\n",
    ")"
   ]
  },
  {
   "cell_type": "markdown",
   "id": "0319c9df",
   "metadata": {},
   "source": [
    "The code in the next few cells pre-trains the shape recognizer and freezes the recongizers"
   ]
  },
  {
   "cell_type": "code",
   "execution_count": 10,
   "id": "502a8ce2",
   "metadata": {},
   "outputs": [],
   "source": [
    "def augment(image, rng):\n",
    "    img = Image.fromarray(image)\n",
    "    select = rng.integers(0, 2, size=2)\n",
    "    angle = 0\n",
    "    translate = (0, 0)\n",
    "    if select[0]:\n",
    "        angle = rng.integers(0, 20) - 10\n",
    "    if select[1]:\n",
    "        translate = tuple(rng.integers(0, 10, size=2) - 5)\n",
    "        \n",
    "    img = img.rotate(angle, translate=translate)\n",
    "    return np.array(img)\n",
    "        \n",
    "def part_generator(paths, epochs, steps_per_epoch, imgs_per_part):\n",
    "   \n",
    "    batch_size = 8\n",
    "    batches = epochs * steps_per_epoch\n",
    "    label_map = {'3': [1, 0, 0], '4': [0, 1, 0], '6': [0, 0, 1]}\n",
    "    rng = np.random.default_rng()\n",
    "    \n",
    "    images = []\n",
    "    labels = []\n",
    "    for cls in label_map:\n",
    "        matcher = re.compile(f'.*_{cls}_\\d+.png')    \n",
    "        all_paths = [path for path in paths if matcher.match(path)]\n",
    "        imgs_per_part = min(imgs_per_part, len(all_paths))\n",
    "        images += [np.array(Image.open(f))[14:, :] for f in all_paths[:imgs_per_part]]\n",
    "        labels += [label_map[cls] for _ in range(imgs_per_part)]\n",
    "    \n",
    "    print(len(images))\n",
    "    for i in range(batches):\n",
    "        selected = rng.integers(0, len(labels), size=batch_size)\n",
    "        inputs = [augment(images[f], rng) for f in selected]\n",
    "        targets = [labels[f] for f in selected]\n",
    "        \n",
    "        yield np.array(inputs), np.array(targets).reshape(1, -1, 3) "
   ]
  },
  {
   "cell_type": "code",
   "execution_count": 11,
   "id": "3652ee39",
   "metadata": {},
   "outputs": [],
   "source": [
    "outputs = tf.keras.layers.Softmax()(part_model.outputs)\n",
    "pre_model = tf.keras.models.Model(inputs=part_model.inputs, \n",
    "                                  outputs=outputs)"
   ]
  },
  {
   "cell_type": "code",
   "execution_count": 12,
   "id": "5ead65c0",
   "metadata": {},
   "outputs": [
    {
     "name": "stdout",
     "output_type": "stream",
     "text": [
      "30\n",
      "Epoch 1/5\n"
     ]
    },
    {
     "name": "stderr",
     "output_type": "stream",
     "text": [
      "2025-04-07 12:13:32.970086: W tensorflow/tsl/platform/profile_utils/cpu_utils.cc:128] Failed to get CPU frequency: 0 Hz\n"
     ]
    },
    {
     "name": "stdout",
     "output_type": "stream",
     "text": [
      "1000/1000 [==============================] - 2s 2ms/step - loss: 0.7676 - accuracy: 0.6490\n",
      "Epoch 2/5\n",
      "1000/1000 [==============================] - 2s 2ms/step - loss: 0.2378 - accuracy: 0.9131\n",
      "Epoch 3/5\n",
      "1000/1000 [==============================] - 2s 2ms/step - loss: 0.1095 - accuracy: 0.9645\n",
      "Epoch 4/5\n",
      "1000/1000 [==============================] - 2s 2ms/step - loss: 0.0613 - accuracy: 0.9841\n",
      "Epoch 5/5\n",
      "1000/1000 [==============================] - 2s 2ms/step - loss: 0.0396 - accuracy: 0.9900\n"
     ]
    },
    {
     "data": {
      "text/plain": [
       "<keras.callbacks.History at 0x15b5c5be0>"
      ]
     },
     "execution_count": 12,
     "metadata": {},
     "output_type": "execute_result"
    }
   ],
   "source": [
    "pre_model.compile(optimizer='adam', loss='categorical_crossentropy', metrics=['accuracy'])\n",
    "pre_model.fit(part_generator(train_paths, 5, 1000, 10), verbose=True, epochs=5, steps_per_epoch=1000)"
   ]
  },
  {
   "cell_type": "code",
   "execution_count": 13,
   "id": "ea61c14a",
   "metadata": {},
   "outputs": [],
   "source": [
    "part_model.trainable = False"
   ]
  },
  {
   "cell_type": "markdown",
   "id": "d8ebdba5",
   "metadata": {},
   "source": [
    "In the following three cells, we setup different constructs required for the LTN:\n",
    "    \n",
    "   * two predicates, $Char$ and $Part$, which evaluate to True if the given image contains the passed character/shape\n",
    "   * three variables representing a character $c \\in Chars$ or shapes $p1, p2 \\in Parts$ respectively\n",
    "   * required logic conjunctions and quantifiers\n",
    "   * the knowledge base, which encodes which character is made of which shapes\n",
    "   * a predicate implementation for the $Composed$ predicate, which evaluates to True if the given combination of character, upper shape, and lower shape are valid, i.e., the character is composed of the upper shape and the lower shape in their respective position"
   ]
  },
  {
   "cell_type": "code",
   "execution_count": 14,
   "id": "54478910",
   "metadata": {},
   "outputs": [],
   "source": [
    "Char = ltn.Predicate.FromLogits(char_model, activation_function=\"softmax\")\n",
    "Part = ltn.Predicate.FromLogits(part_model, activation_function=\"softmax\")\n",
    "\n",
    "c = ltn.Variable(\"char\", range(char_num))\n",
    "p1 = ltn.Variable(\"part1\", range(part_num))\n",
    "p2 = ltn.Variable(\"part2\", range(part_num))\n",
    "\n",
    "And = ltn.Wrapper_Connective(ltn.fuzzy_ops.And_Prod())\n",
    "Implies = ltn.Wrapper_Connective(ltn.fuzzy_ops.Implies_Reichenbach())\n",
    "Forall = ltn.Wrapper_Quantifier(ltn.fuzzy_ops.Aggreg_pMeanError(),semantics=\"forall\")\n",
    "Exists = ltn.Wrapper_Quantifier(ltn.fuzzy_ops.Aggreg_pMean(),semantics=\"exists\")"
   ]
  },
  {
   "cell_type": "code",
   "execution_count": 15,
   "id": "4d08e0f9",
   "metadata": {},
   "outputs": [],
   "source": [
    "parts = [3, 4, 6]\n",
    "chars = itertools.product(range(len(parts)), repeat=2)\n",
    "knowledge_base = [[i, c[0], c[1]] for i, c in enumerate(chars)]\n",
    "knowledge_base = np.array(knowledge_base)"
   ]
  },
  {
   "cell_type": "code",
   "execution_count": 16,
   "id": "463f0778",
   "metadata": {},
   "outputs": [],
   "source": [
    "class tf_ComposeModel(tf.keras.Model):\n",
    "    \"\"\" Model checking composition.\"\"\"\n",
    "    def __init__(self, knowledge_base):\n",
    "        super(tf_ComposeModel, self).__init__()\n",
    "        # encode composition: 100 for char, 10 for part1 and 1 for part2 \n",
    "        self.kb = (knowledge_base * np.array([100, 10, 1])).sum(axis=1)\n",
    "    \n",
    "    def call(self, inputs):\n",
    "        char = tf.math.multiply(inputs[0], 100)\n",
    "        part1 = tf.math.multiply(inputs[1], 10)\n",
    "        part2 = inputs[2]\n",
    "        \n",
    "        encoded = tf.math.add_n([char, part1, part2])\n",
    "        locations = []\n",
    "        # find each valid combination of char and its parts\n",
    "        for pattern in self.kb:\n",
    "            locations.append(tf.math.equal(encoded, pattern))\n",
    "            \n",
    "        # combine locations into one Boolean vector of valid locations\n",
    "        locations = tf.concat(locations, axis=-1)\n",
    "        locations = tf.math.reduce_any(locations, axis=1)\n",
    "        \n",
    "        return tf.expand_dims(locations, axis=-1)"
   ]
  },
  {
   "cell_type": "markdown",
   "id": "7deff212",
   "metadata": {},
   "source": [
    "$$\n",
    "    \\mathbf{D}(upper) = \\mathbf{D}(lower) = \\mathbf{D}(x) = images \\\\\n",
    "    \\mathbf{D}(c) = characters \\\\\n",
    "    \\mathbf{D}(p1) = \\mathbf{D}(p2) = parts \\\\\n",
    "    \\forall Diag(x, upper, lower) (\\exists c, p1, p2: Composed(c, p1, p2) (Char(x, c) \\land (Part(upper, p1) \\land Part(lower, p2))))\n",
    "$$\n",
    "\n",
    "The idea here is that for every character (and its upper and lower part), there is a label configuration, so that the configuration conforms to the specification of a character and the character and shape recognition models recognize the given images as those labels."
   ]
  },
  {
   "cell_type": "code",
   "execution_count": 17,
   "id": "a7993a62",
   "metadata": {
    "scrolled": false
   },
   "outputs": [
    {
     "name": "stdout",
     "output_type": "stream",
     "text": [
      "WARNING:tensorflow:From /Users/wesflo/micromamba/envs/xaai/lib/python3.9/site-packages/tensorflow/python/autograph/pyct/static_analysis/liveness.py:83: Analyzer.lamba_check (from tensorflow.python.autograph.pyct.static_analysis.liveness) is deprecated and will be removed after 2023-09-23.\n",
      "Instructions for updating:\n",
      "Lambda fuctions will be no more assumed to be used in the statement where they are used, or at least in the same block. https://github.com/tensorflow/tensorflow/issues/56089\n"
     ]
    },
    {
     "data": {
      "text/plain": [
       "<tf.Tensor: shape=(), dtype=float32, numpy=0.035419285>"
      ]
     },
     "execution_count": 17,
     "metadata": {},
     "output_type": "execute_result"
    }
   ],
   "source": [
    "Composed = ltn.Predicate(tf_ComposeModel(knowledge_base))\n",
    "\n",
    "### Axioms\n",
    "@tf.function\n",
    "def axioms(images_x, p_schedule=tf.constant(2.)):   \n",
    "    images_upper = ltn.Variable(\"upper\", images_x[:, :14, :])\n",
    "    images_lower = ltn.Variable(\"lower\", images_x[:, 14:, :])\n",
    "    images_x = ltn.Variable(\"x\", images_x)\n",
    "    axiom = Forall(\n",
    "            ltn.diag(images_x,images_upper,images_lower),\n",
    "            Exists(\n",
    "                (c, p1, p2),\n",
    "                And(Char([images_x, c]), And(Part([images_upper, p1]), Part([images_lower, p2]))),\n",
    "                mask=Composed([c, p1, p2]),\n",
    "                p=p_schedule\n",
    "            ),\n",
    "            p=2\n",
    "        )\n",
    "    sat = axiom.tensor\n",
    "    return sat\n",
    "\n",
    "images_x = next(ds_train.as_numpy_iterator())\n",
    "axioms(images_x)"
   ]
  },
  {
   "cell_type": "markdown",
   "id": "cf59414f",
   "metadata": {},
   "source": [
    "### Training\n",
    "\n",
    "Run the following four cells to train the LTN to satisfy the defined logic formula for the training dataset."
   ]
  },
  {
   "cell_type": "code",
   "execution_count": 18,
   "id": "7964a3d8",
   "metadata": {},
   "outputs": [],
   "source": [
    "optimizer = tf.keras.optimizers.legacy.Adam(0.001)\n",
    "metrics_dict = {\n",
    "    'train_loss': tf.keras.metrics.Mean(name=\"train_loss\"),\n",
    "    'test_loss': tf.keras.metrics.Mean(name=\"test_loss\"),\n",
    "}\n",
    "\n",
    "@tf.function\n",
    "def train_step(images_x, **parameters):\n",
    "    # loss\n",
    "    with tf.GradientTape(persistent=True) as tape:\n",
    "        loss = 1.- axioms(images_x, **parameters)\n",
    "    # train Char model\n",
    "    gradients = tape.gradient(loss, char_model.trainable_variables)\n",
    "    optimizer.apply_gradients(zip(gradients, char_model.trainable_variables))\n",
    "    # train Part model\n",
    "    gradients = tape.gradient(loss, part_model.trainable_variables)\n",
    "    optimizer.apply_gradients(zip(gradients, part_model.trainable_variables))\n",
    "    metrics_dict['train_loss'](loss)\n",
    "    \n",
    "@tf.function\n",
    "def test_step(images_x, **parameters):\n",
    "    # loss\n",
    "    loss = 1.- axioms(images_x, **parameters)\n",
    "    metrics_dict['test_loss'](loss)"
   ]
  },
  {
   "cell_type": "code",
   "execution_count": 19,
   "id": "64e43b09",
   "metadata": {},
   "outputs": [],
   "source": [
    "from collections import defaultdict\n",
    "\n",
    "scheduled_parameters = defaultdict(lambda: {})\n",
    "for epoch in range(0,4):\n",
    "    scheduled_parameters[epoch] = {\"p_schedule\":tf.constant(1.)}\n",
    "for epoch in range(4,8):\n",
    "    scheduled_parameters[epoch] = {\"p_schedule\":tf.constant(2.)}\n",
    "for epoch in range(8,12):\n",
    "    scheduled_parameters[epoch] = {\"p_schedule\":tf.constant(4.)}\n",
    "for epoch in range(12,20):\n",
    "    scheduled_parameters[epoch] = {\"p_schedule\":tf.constant(6.)}"
   ]
  },
  {
   "cell_type": "code",
   "execution_count": 20,
   "id": "ff669e03",
   "metadata": {},
   "outputs": [],
   "source": [
    "def run_training(epochs, metrics_dict, ds_train, ds_test, train_step, test_step, scheduled_parameters):\n",
    "    template = \"Epoch {}\"\n",
    "    for metrics_label in metrics_dict.keys():\n",
    "        template += \", %s: {:.4f}\" % metrics_label\n",
    "\n",
    "    for epoch in range(epochs):\n",
    "        for metrics in metrics_dict.values():\n",
    "            metrics.reset_states()\n",
    "\n",
    "        for batch_elements in ds_train:\n",
    "            train_step(batch_elements,**scheduled_parameters[epoch])\n",
    "        for batch_elements in ds_test:\n",
    "            test_step(batch_elements,**scheduled_parameters[epoch])\n",
    "\n",
    "        metrics_results = [metrics.result() for metrics in metrics_dict.values()]\n",
    "        print(template.format(epoch,*metrics_results))"
   ]
  },
  {
   "cell_type": "code",
   "execution_count": 21,
   "id": "117de0f3",
   "metadata": {},
   "outputs": [
    {
     "name": "stdout",
     "output_type": "stream",
     "text": [
      "Epoch 0, train_loss: 0.9836, test_loss: 0.9825\n",
      "Epoch 1, train_loss: 0.9820, test_loss: 0.9818\n",
      "Epoch 2, train_loss: 0.9811, test_loss: 0.9816\n",
      "Epoch 3, train_loss: 0.9804, test_loss: 0.9794\n",
      "Epoch 4, train_loss: 0.9291, test_loss: 0.9141\n",
      "Epoch 5, train_loss: 0.8923, test_loss: 0.8749\n",
      "Epoch 6, train_loss: 0.8572, test_loss: 0.8503\n",
      "Epoch 7, train_loss: 0.8353, test_loss: 0.8354\n",
      "Epoch 8, train_loss: 0.6831, test_loss: 0.6758\n",
      "Epoch 9, train_loss: 0.5769, test_loss: 0.5728\n",
      "Epoch 10, train_loss: 0.5251, test_loss: 0.5386\n",
      "Epoch 11, train_loss: 0.4997, test_loss: 0.5201\n",
      "Epoch 12, train_loss: 0.3910, test_loss: 0.4526\n",
      "Epoch 13, train_loss: 0.3861, test_loss: 0.4070\n",
      "Epoch 14, train_loss: 0.3751, test_loss: 0.4168\n",
      "Epoch 15, train_loss: 0.3706, test_loss: 0.3991\n",
      "Epoch 16, train_loss: 0.3633, test_loss: 0.3940\n",
      "Epoch 17, train_loss: 0.3610, test_loss: 0.4070\n",
      "Epoch 18, train_loss: 0.3582, test_loss: 0.3935\n",
      "Epoch 19, train_loss: 0.3557, test_loss: 0.3958\n"
     ]
    }
   ],
   "source": [
    "run_training(20, metrics_dict, ds_train, ds_test, train_step, test_step, scheduled_parameters)"
   ]
  },
  {
   "cell_type": "markdown",
   "id": "e669144e",
   "metadata": {},
   "source": [
    "### Evaluation\n",
    "\n",
    "Run the following four cells to evaluate the character and shape recognizer you trained."
   ]
  },
  {
   "cell_type": "code",
   "execution_count": 22,
   "id": "bcc1406e",
   "metadata": {},
   "outputs": [],
   "source": [
    "def char_test_generator(paths):\n",
    "    batch_size = 8\n",
    "    classes = 9\n",
    "    images = []\n",
    "    labels = []\n",
    "    \n",
    "    batches = len(paths) // batch_size\n",
    "    matcher = re.compile('.*/(\\d+)_.*')\n",
    "    for idx in range(batches * batch_size):\n",
    "        cls = int(matcher.match(paths[idx]).group(1))\n",
    "        label = np.zeros(classes)\n",
    "        label[cls] = 1\n",
    "        images.append(np.array(Image.open(paths[idx])))\n",
    "        labels.append(label)\n",
    "    \n",
    "    print(len(images))\n",
    "    for i in range(batches):\n",
    "        \n",
    "        inputs = np.array(images[i*batch_size:i*batch_size+batch_size])\n",
    "        targets = np.array(labels[i*batch_size:i*batch_size+batch_size])\n",
    "        \n",
    "        yield inputs, targets"
   ]
  },
  {
   "cell_type": "code",
   "execution_count": 23,
   "id": "c42a1831",
   "metadata": {},
   "outputs": [],
   "source": [
    "def part_test_generator(paths):\n",
    "   \n",
    "    label_map = {'3': [1, 0, 0], '4': [0, 1, 0], '6': [0, 0, 1]}\n",
    "    \n",
    "    images = []\n",
    "    labels = []\n",
    "    for cls in label_map:\n",
    "        matcher = re.compile(f'.*_{cls}_\\d+.png')    \n",
    "        all_paths = [path for path in paths if matcher.match(path)]\n",
    "        images += [np.array(Image.open(f))[14:, :] for f in all_paths]\n",
    "        labels += [label_map[cls] for _ in range(len(all_paths))]\n",
    "    \n",
    "    print(len(images))\n",
    "    for i in range(len(images)):\n",
    "        \n",
    "        inputs = [images[i], ]\n",
    "        targets = [labels[i], ]\n",
    "        \n",
    "        yield np.array(inputs), np.array(targets)"
   ]
  },
  {
   "cell_type": "code",
   "execution_count": 24,
   "id": "6dc28f78",
   "metadata": {},
   "outputs": [
    {
     "name": "stdout",
     "output_type": "stream",
     "text": [
      "200\n",
      "25/25 [==============================] - 0s 12ms/step - loss: 16.1181 - accuracy: 0.9550\n"
     ]
    },
    {
     "data": {
      "text/plain": [
       "[16.118101119995117, 0.9549999833106995]"
      ]
     },
     "execution_count": 24,
     "metadata": {},
     "output_type": "execute_result"
    }
   ],
   "source": [
    "char_model.compile(loss='categorical_crossentropy', metrics=['accuracy'])\n",
    "char_model.evaluate(char_test_generator(test_paths))"
   ]
  },
  {
   "cell_type": "code",
   "execution_count": 25,
   "id": "46023851",
   "metadata": {},
   "outputs": [
    {
     "name": "stdout",
     "output_type": "stream",
     "text": [
      "200\n",
      "200/200 [==============================] - 0s 462us/step - loss: 16.1181 - accuracy: 1.0000\n"
     ]
    },
    {
     "data": {
      "text/plain": [
       "[16.118104934692383, 1.0]"
      ]
     },
     "execution_count": 25,
     "metadata": {},
     "output_type": "execute_result"
    }
   ],
   "source": [
    "part_model.compile(loss='categorical_crossentropy', metrics=['accuracy'])\n",
    "part_model.evaluate(part_test_generator(test_paths))"
   ]
  },
  {
   "cell_type": "markdown",
   "id": "d82d55df",
   "metadata": {},
   "source": [
    "This seems to have worked"
   ]
  },
  {
   "cell_type": "markdown",
   "id": "9af12232",
   "metadata": {},
   "source": [
    "Answer:\n"
   ]
  },
  {
   "cell_type": "code",
   "execution_count": 26,
   "id": "88d18211",
   "metadata": {},
   "outputs": [
    {
     "name": "stdout",
     "output_type": "stream",
     "text": [
      "1/1 [==============================] - 0s 57ms/step\n"
     ]
    },
    {
     "data": {
      "text/plain": [
       "array([[-19.693026  ,  -1.5858269 ,  -0.07433618,  -7.2484393 ,\n",
       "         -3.3232288 , -19.381233  ,   1.1944746 , -19.735638  ,\n",
       "          6.4469485 ],\n",
       "       [-19.4268    ,  -1.5819961 ,   2.02067   ,  -7.997442  ,\n",
       "         -2.1281664 , -19.185059  ,  -0.72229445, -20.147104  ,\n",
       "          6.2504387 ],\n",
       "       [-21.651619  ,  -3.6677306 ,  -5.2301826 ,  -2.9248674 ,\n",
       "         10.248312  , -22.286419  ,  -6.5144978 , -23.209558  ,\n",
       "          1.8260115 ],\n",
       "       [-19.286932  ,   1.6308165 ,   9.919362  ,  -8.062005  ,\n",
       "         -5.1428814 , -19.231297  ,  -4.6453295 , -19.589241  ,\n",
       "          3.424105  ],\n",
       "       [-27.18326   , -21.453712  ,  -4.452263  ,  20.379269  ,\n",
       "          2.6558025 , -27.002762  ,   8.907864  , -28.130135  ,\n",
       "         -4.087888  ],\n",
       "       [-18.700819  ,  -5.8746195 ,   1.3617517 ,   1.8814801 ,\n",
       "         -7.16964   , -19.30423   ,   8.163996  , -19.169516  ,\n",
       "         -0.04736719],\n",
       "       [-14.766735  , -14.756649  ,  -3.4811707 ,   7.9288974 ,\n",
       "         -2.5106158 , -16.0088    ,   4.78429   , -16.072739  ,\n",
       "          3.4195266 ],\n",
       "       [-26.673065  , -24.970745  ,  -3.7154071 ,  16.578161  ,\n",
       "          4.5819955 , -26.595407  ,   5.74223   , -27.31033   ,\n",
       "         -0.5634052 ],\n",
       "       [-27.935734  ,  -8.56628   ,  -4.398669  , -10.349618  ,\n",
       "         -7.065523  , -27.948133  ,   5.9693484 , -27.503408  ,\n",
       "         13.914515  ],\n",
       "       [-21.13998   ,  -6.594549  ,  -1.33365   ,  -0.10800202,\n",
       "         -7.133804  , -21.48423   ,   9.919347  , -21.671412  ,\n",
       "          1.0031328 ],\n",
       "       [-16.146925  ,  -5.057753  ,   8.221178  ,  -3.3425112 ,\n",
       "         -6.5824633 , -16.136341  ,   0.7035416 , -17.227375  ,\n",
       "          3.9194534 ],\n",
       "       [-23.47657   ,  -0.30350348,   9.969686  ,  -7.043904  ,\n",
       "         -3.5880747 , -25.091394  ,  -6.4864707 , -24.587845  ,\n",
       "          4.2347026 ],\n",
       "       [-19.518476  ,  -4.9231043 ,  -1.6104609 ,   5.8299994 ,\n",
       "         -1.2703902 , -19.359575  ,   3.140875  , -19.26954   ,\n",
       "         -0.3513855 ],\n",
       "       [-19.00198   ,  -0.693784  ,   3.1034296 ,  -9.073796  ,\n",
       "         -4.689324  , -18.837132  ,  -0.879923  , -19.42997   ,\n",
       "          8.388792  ],\n",
       "       [-20.175957  ,  -7.8285923 ,  -3.9893742 ,   0.89874095,\n",
       "         -7.7834024 , -20.85527   ,  13.165252  , -20.73124   ,\n",
       "          2.833352  ],\n",
       "       [-18.619898  ,   6.242455  ,   4.0337505 ,  -3.9733093 ,\n",
       "         -2.7739139 , -19.177341  ,   2.0707276 , -18.640469  ,\n",
       "         -4.006882  ]], dtype=float32)"
      ]
     },
     "execution_count": 26,
     "metadata": {},
     "output_type": "execute_result"
    }
   ],
   "source": [
    "char_model.predict(x)"
   ]
  },
  {
   "cell_type": "code",
   "execution_count": 27,
   "id": "3fde50bf",
   "metadata": {},
   "outputs": [
    {
     "name": "stdout",
     "output_type": "stream",
     "text": [
      "1/1 [==============================] - 0s 43ms/step\n"
     ]
    },
    {
     "data": {
      "text/plain": [
       "array([[ -8.29894   ,  -7.9976745 ,   9.440104  ],\n",
       "       [ -5.4170046 ,  -6.245299  ,   6.1623726 ],\n",
       "       [ -6.270904  ,   2.7126946 ,  -0.8493959 ],\n",
       "       [  6.7757936 ,  -9.875167  ,  -0.4820165 ],\n",
       "       [-20.929508  ,  15.98288   ,  -1.4555466 ],\n",
       "       [ -1.7687993 ,  -5.146667  ,   3.1067939 ],\n",
       "       [ -6.3869295 ,   6.383285  ,  -2.502199  ],\n",
       "       [-14.177123  ,  11.756243  ,  -4.881053  ],\n",
       "       [ -7.9724364 ,  -9.928202  ,   9.478032  ],\n",
       "       [ -3.633059  ,  -7.813391  ,   5.463474  ],\n",
       "       [  4.247868  ,  -7.531877  ,   0.5446832 ],\n",
       "       [  5.086492  ,  -9.599037  ,   0.25852382],\n",
       "       [ -1.4952985 ,  -1.0523641 ,  -0.8512151 ],\n",
       "       [ -2.9517884 ,  -6.907682  ,   5.9165564 ],\n",
       "       [ -6.736693  ,  -8.6614895 ,   8.420139  ],\n",
       "       [  6.054859  ,  -9.029182  ,  -1.3561293 ]], dtype=float32)"
      ]
     },
     "execution_count": 27,
     "metadata": {},
     "output_type": "execute_result"
    }
   ],
   "source": [
    "part_model.predict(x[:, :14, :])"
   ]
  },
  {
   "cell_type": "code",
   "execution_count": 28,
   "id": "a42bf09a",
   "metadata": {},
   "outputs": [
    {
     "name": "stdout",
     "output_type": "stream",
     "text": [
      "1/1 [==============================] - 0s 16ms/step\n"
     ]
    },
    {
     "data": {
      "text/plain": [
       "array([[ -3.8688955 ,  -3.790211  ,   2.3156433 ],\n",
       "       [ -2.4926853 ,  -6.999678  ,   4.5770445 ],\n",
       "       [-12.839831  ,   9.514938  ,  -1.9163997 ],\n",
       "       [ -3.2059755 ,  -4.671968  ,   4.0203648 ],\n",
       "       [  7.206024  , -10.568068  ,  -0.783634  ],\n",
       "       [  4.874892  ,  -7.711306  ,  -0.34918147],\n",
       "       [  6.824925  , -10.856482  ,   0.08742601],\n",
       "       [  6.1062407 ,  -9.623889  ,  -0.19288541],\n",
       "       [ -5.1261697 ,  -8.290001  ,   7.1412973 ],\n",
       "       [  4.3119445 ,  -8.68934   ,  -0.10405929],\n",
       "       [ -3.2771306 , -11.790586  ,   7.279767  ],\n",
       "       [ -5.5403876 ,  -8.891624  ,   7.160758  ],\n",
       "       [  4.797151  ,  -6.880939  ,  -1.2053545 ],\n",
       "       [ -2.0719514 ,  -7.516393  ,   4.0704155 ],\n",
       "       [  4.5525126 ,  -9.260526  ,   0.22648524],\n",
       "       [ -3.1526313 ,  -0.07601392,   0.06208235]], dtype=float32)"
      ]
     },
     "execution_count": 28,
     "metadata": {},
     "output_type": "execute_result"
    }
   ],
   "source": [
    "part_model.predict(x[:, 14:, :])"
   ]
  },
  {
   "cell_type": "code",
   "execution_count": 29,
   "id": "e7ab6cc0",
   "metadata": {},
   "outputs": [
    {
     "data": {
      "text/plain": [
       "<matplotlib.image.AxesImage at 0x30cdfb820>"
      ]
     },
     "execution_count": 29,
     "metadata": {},
     "output_type": "execute_result"
    },
    {
     "data": {
      "image/png": "[encoded data removed]",
      "text/plain": [
       "<Figure size 640x480 with 1 Axes>"
      ]
     },
     "metadata": {},
     "output_type": "display_data"
    }
   ],
   "source": [
    "plt.subplot(121)\n",
    "plt.imshow(x[1][:,:])"
   ]
  },
  {
   "cell_type": "code",
   "execution_count": 30,
   "id": "fa4ea35f",
   "metadata": {},
   "outputs": [
    {
     "data": {
      "text/plain": [
       "array([[0, 0, 0],\n",
       "       [1, 0, 1],\n",
       "       [2, 0, 2],\n",
       "       [3, 1, 0],\n",
       "       [4, 1, 1],\n",
       "       [5, 1, 2],\n",
       "       [6, 2, 0],\n",
       "       [7, 2, 1],\n",
       "       [8, 2, 2]])"
      ]
     },
     "execution_count": 30,
     "metadata": {},
     "output_type": "execute_result"
    }
   ],
   "source": [
    "knowledge_base"
   ]
  }
 ],
 "metadata": {
  "kernelspec": {
   "display_name": "xaai",
   "language": "python",
   "name": "xaai"
  },
  "language_info": {
   "codemirror_mode": {
    "name": "ipython",
    "version": 3
   },
   "file_extension": ".py",
   "mimetype": "text/x-python",
   "name": "python",
   "nbconvert_exporter": "python",
   "pygments_lexer": "ipython3",
   "version": "3.9.19"
  },
  "widgets": {
   "application/vnd.jupyter.widget-state+json": {
    "state": {},
    "version_major": 2,
    "version_minor": 0
   }
  }
 },
 "nbformat": 4,
 "nbformat_minor": 5
}
