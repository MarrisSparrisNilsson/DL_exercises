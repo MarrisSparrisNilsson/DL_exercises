{
 "cells": [
  {
   "cell_type": "markdown",
   "id": "06828852",
   "metadata": {},
   "source": [
    "# Integrating External Knowledge using Logic Tensor Networks\n",
    "\n",
    "In this example, we want to use logic tensor networks (LTNs) to train a simple \"character\" recognizer without direct labels, but instead using knowledge about how the \"characters\" are constructed.\n",
    "\n",
    "In a first step, we need to setup the environmnent. You need to install:\n",
    "    \n",
    "   * tensorflow\n",
    "   * pillow\n",
    "   * pandas\n",
    "   * matplotlib\n",
    "    \n",
    "Furthermore, you need to download the LTN project from here: https://github.com/logictensornetworks/logictensornetworks\n",
    "\n",
    "Then, you need to enable Python to find the LTN implementation. You can do this by providing the path to where you downloaded the LTN implementation in the following cell."
   ]
  },
  {
   "cell_type": "code",
   "execution_count": 1,
   "id": "9ac95905",
   "metadata": {},
   "outputs": [],
   "source": [
    "import sys\n",
    "sys.path.append('logictensornetworks/')\n",
    "%matplotlib inline"
   ]
  },
  {
   "cell_type": "code",
   "execution_count": 2,
   "id": "07fbd0a5",
   "metadata": {},
   "outputs": [
    {
     "name": "stderr",
     "output_type": "stream",
     "text": [
      "/Users/wesflo/micromamba/envs/xaai/lib/python3.9/site-packages/scipy/__init__.py:155: UserWarning: A NumPy version >=1.18.5 and <1.25.0 is required for this version of SciPy (detected version 1.26.4\n",
      "  warnings.warn(f\"A NumPy version >={np_minversion} and <{np_maxversion}\"\n"
     ]
    }
   ],
   "source": [
    "import itertools\n",
    "import ltn\n",
    "import matplotlib.pyplot as plt\n",
    "import numpy as np\n",
    "import os\n",
    "import pandas as pd\n",
    "from PIL import Image\n",
    "import re\n",
    "import tensorflow as tf"
   ]
  },
  {
   "cell_type": "code",
   "execution_count": 3,
   "id": "731201f2",
   "metadata": {},
   "outputs": [],
   "source": [
    "tf.keras.utils.set_random_seed(43)"
   ]
  },
  {
   "cell_type": "markdown",
   "id": "1692c825",
   "metadata": {},
   "source": [
    "## Dataset\n",
    "\n",
    "In the following, we will load the dataset. Download the dataset from Canvas and provide the appropriate paths to the `load_data()` function."
   ]
  },
  {
   "cell_type": "code",
   "execution_count": 4,
   "id": "3e8b210c",
   "metadata": {},
   "outputs": [],
   "source": [
    "def load_data(root_path, img_file, take=1000, train_ratio=0.8, batch_size=16):\n",
    "    data = pd.read_csv(img_file)\n",
    "    classes = data['char'].unique()\n",
    "    per_class = take // len(classes)\n",
    "    \n",
    "    data = data.sample(frac=1)\n",
    "    paths = [os.path.join(root_path, img)\n",
    "              for cls in classes \n",
    "              for img in data[data['char'] == cls]['image'][:per_class]]\n",
    "    np.random.shuffle(paths)\n",
    "    train_idx = int(len(paths) * train_ratio)\n",
    "    \n",
    "    train_paths = paths[:train_idx]\n",
    "    test_paths = paths[train_idx:]\n",
    "    train_imgs = [np.array(Image.open(f)) for f in train_paths]\n",
    "    test_imgs = [np.array(Image.open(f)) for f in test_paths]\n",
    "    \n",
    "    ds_train = tf.data.Dataset.from_tensor_slices(train_imgs).shuffle(train_idx).batch(batch_size)\n",
    "    ds_test = tf.data.Dataset.from_tensor_slices(test_imgs).shuffle(train_idx).batch(batch_size)\n",
    "    \n",
    "    return ds_train, ds_test, train_paths, test_paths"
   ]
  },
  {
   "cell_type": "code",
   "execution_count": 5,
   "id": "1f7dba43",
   "metadata": {},
   "outputs": [],
   "source": [
    "ds_train, ds_test, train_paths, test_paths = load_data('dataset/char/', 'dataset/char/dataset.csv')"
   ]
  },
  {
   "cell_type": "markdown",
   "id": "bad23565",
   "metadata": {},
   "source": [
    "As you can see in the following cell, our \"characters\" consists of two geometric shapes - one on top of the other. The geometric shapes are either a triangle, a rectangle or a hexagon. Your task will be to recognize the character by making use of the knowledge about which shapes correspond to which character.\n",
    "\n",
    "Therefore, we will need one recognizer for the whole character and one recognizer for the upper or lower part."
   ]
  },
  {
   "cell_type": "code",
   "execution_count": 6,
   "id": "c11629ce",
   "metadata": {},
   "outputs": [
    {
     "data": {
      "text/plain": [
       "<matplotlib.image.AxesImage at 0x10746f2e0>"
      ]
     },
     "execution_count": 6,
     "metadata": {},
     "output_type": "execute_result"
    },
    {
     "data": {
      "image/png": "[encoded data removed]",
      "text/plain": [
       "<Figure size 640x480 with 1 Axes>"
      ]
     },
     "metadata": {},
     "output_type": "display_data"
    }
   ],
   "source": [
    "x = next(ds_train.as_numpy_iterator())\n",
    "plt.subplot(121)\n",
    "plt.imshow(x[0][:,:])"
   ]
  },
  {
   "cell_type": "code",
   "execution_count": 7,
   "id": "b6010b08",
   "metadata": {},
   "outputs": [
    {
     "data": {
      "text/plain": [
       "<matplotlib.image.AxesImage at 0x1699b8940>"
      ]
     },
     "execution_count": 7,
     "metadata": {},
     "output_type": "execute_result"
    },
    {
     "data": {
      "image/png": "[encoded data removed]",
      "text/plain": [
       "<Figure size 640x480 with 1 Axes>"
      ]
     },
     "metadata": {},
     "output_type": "display_data"
    }
   ],
   "source": [
    "plt.imshow(x[0][:14,:])"
   ]
  },
  {
   "cell_type": "markdown",
   "id": "3db9b08e",
   "metadata": {},
   "source": [
    "## LTN - Learning without Lables\n",
    "### Problem Setup\n",
    "\n",
    "The two networks defined in the next cell will be used to recognize the \"characters\" (`char_model`) and geometric shapes (`part_model`) respectively."
   ]
  },
  {
   "cell_type": "code",
   "execution_count": 8,
   "id": "8cf89033",
   "metadata": {},
   "outputs": [],
   "source": [
    "char_num = 9\n",
    "part_num = 3\n",
    "\n",
    "char_model = tf.keras.Sequential(\n",
    "    [\n",
    "        tf.keras.Input(shape=(28, 28)),\n",
    "        tf.keras.layers.Reshape((28, 28, 1)),\n",
    "        tf.keras.layers.Rescaling(scale=1./255),\n",
    "        tf.keras.layers.Conv2D(32, kernel_size=(3, 3), activation=\"relu\"),\n",
    "        tf.keras.layers.MaxPooling2D(pool_size=(2, 2)),\n",
    "        tf.keras.layers.Conv2D(64, kernel_size=(3, 3), activation=\"relu\"),\n",
    "        tf.keras.layers.MaxPooling2D(pool_size=(2, 2)),\n",
    "        tf.keras.layers.Flatten(),\n",
    "        tf.keras.layers.Dropout(0.5),\n",
    "        tf.keras.layers.Dense(char_num),\n",
    "    ]\n",
    ")\n",
    "\n",
    "part_model = tf.keras.Sequential(\n",
    "    [\n",
    "        tf.keras.Input(shape=(14, 28)),\n",
    "        tf.keras.layers.Reshape((14, 28, 1)),\n",
    "        tf.keras.layers.Rescaling(scale=1./255),\n",
    "        tf.keras.layers.Conv2D(32, kernel_size=(3, 3), activation=\"relu\"),\n",
    "        tf.keras.layers.MaxPooling2D(pool_size=(2, 2)),\n",
    "        tf.keras.layers.Conv2D(64, kernel_size=(3, 3), activation=\"relu\"),\n",
    "        tf.keras.layers.MaxPooling2D(pool_size=(2, 2)),\n",
    "        tf.keras.layers.Flatten(),\n",
    "        tf.keras.layers.Dropout(0.5),\n",
    "        tf.keras.layers.Dense(part_num),\n",
    "    ]\n",
    ")"
   ]
  },
  {
   "cell_type": "markdown",
   "id": "d8ebdba5",
   "metadata": {},
   "source": [
    "In the following three cells, we setup different constructs required for the LTN:\n",
    "    \n",
    "   * two predicates, $Char$ and $Part$, which evaluate to True if the given image contains the passed character/shape\n",
    "   * three variables representing a character $c \\in Chars$ or shapes $p1, p2 \\in Parts$ respectively\n",
    "   * required logic conjunctions and quantifiers\n",
    "   * the knowledge base, which encodes which character is made of which shapes\n",
    "   * a predicate implementation for the $Composed$ predicate, which evaluates to True if the given combination of character, upper shape, and lower shape are valid, i.e., the character is composed of the upper shape and the lower shape in their respective position"
   ]
  },
  {
   "cell_type": "code",
   "execution_count": 9,
   "id": "54478910",
   "metadata": {},
   "outputs": [],
   "source": [
    "Char = ltn.Predicate.FromLogits(char_model, activation_function=\"softmax\")\n",
    "Part = ltn.Predicate.FromLogits(part_model, activation_function=\"softmax\")\n",
    "\n",
    "c = ltn.Variable(\"char\", range(char_num))\n",
    "p1 = ltn.Variable(\"part1\", range(part_num))\n",
    "p2 = ltn.Variable(\"part2\", range(part_num))\n",
    "\n",
    "And = ltn.Wrapper_Connective(ltn.fuzzy_ops.And_Prod())\n",
    "Implies = ltn.Wrapper_Connective(ltn.fuzzy_ops.Implies_Reichenbach())\n",
    "Forall = ltn.Wrapper_Quantifier(ltn.fuzzy_ops.Aggreg_pMeanError(),semantics=\"forall\")\n",
    "Exists = ltn.Wrapper_Quantifier(ltn.fuzzy_ops.Aggreg_pMean(),semantics=\"exists\")"
   ]
  },
  {
   "cell_type": "code",
   "execution_count": 10,
   "id": "4d08e0f9",
   "metadata": {},
   "outputs": [],
   "source": [
    "parts = [3, 4, 6]\n",
    "chars = itertools.product(range(len(parts)), repeat=2)\n",
    "knowledge_base = [[i, c[0], c[1]] for i, c in enumerate(chars)]\n",
    "knowledge_base = np.array(knowledge_base)"
   ]
  },
  {
   "cell_type": "code",
   "execution_count": 11,
   "id": "463f0778",
   "metadata": {},
   "outputs": [],
   "source": [
    "class tf_ComposeModel(tf.keras.Model):\n",
    "    \"\"\" Model checking composition.\"\"\"\n",
    "    def __init__(self, knowledge_base):\n",
    "        super(tf_ComposeModel, self).__init__()\n",
    "        # encode composition: 100 for char, 10 for part1 and 1 for part2 \n",
    "        self.kb = (knowledge_base * np.array([100, 10, 1])).sum(axis=1)\n",
    "    \n",
    "    def call(self, inputs):\n",
    "        char = tf.math.multiply(inputs[0], 100)\n",
    "        part1 = tf.math.multiply(inputs[1], 10)\n",
    "        part2 = inputs[2]\n",
    "        \n",
    "        encoded = tf.math.add_n([char, part1, part2])\n",
    "        locations = []\n",
    "        # find each valid combination of char and its parts\n",
    "        for pattern in self.kb:\n",
    "            locations.append(tf.math.equal(encoded, pattern))\n",
    "            \n",
    "        # combine locations into one Boolean vector of valid locations\n",
    "        locations = tf.concat(locations, axis=-1)\n",
    "        locations = tf.math.reduce_any(locations, axis=1)\n",
    "        \n",
    "        return tf.expand_dims(locations, axis=-1)"
   ]
  },
  {
   "cell_type": "markdown",
   "id": "7deff212",
   "metadata": {},
   "source": [
    "$$\n",
    "    \\mathbf{D}(upper) = \\mathbf{D}(lower) = \\mathbf{D}(x) = images \\\\\n",
    "    \\mathbf{D}(c) = characters \\\\\n",
    "    \\mathbf{D}(p1) = \\mathbf{D}(p2) = parts \\\\\n",
    "    \\forall Diag(x, upper, lower) (\\exists c, p1, p2: Composed(c, p1, p2) (Part(upper, p1) \\land Part(lower, p2)) \\Rightarrow (Char(x, c)))\n",
    "$$\n",
    "\n",
    "The idea here is that for every character (and its upper and lower part), there is a label configuration, so that the configuration conforms to the specification of a character and the character and shape recognition models recognize the given images as those labels."
   ]
  },
  {
   "cell_type": "code",
   "execution_count": 12,
   "id": "a7993a62",
   "metadata": {
    "scrolled": false
   },
   "outputs": [
    {
     "name": "stdout",
     "output_type": "stream",
     "text": [
      "WARNING:tensorflow:From /Users/wesflo/micromamba/envs/xaai/lib/python3.9/site-packages/tensorflow/python/autograph/pyct/static_analysis/liveness.py:83: Analyzer.lamba_check (from tensorflow.python.autograph.pyct.static_analysis.liveness) is deprecated and will be removed after 2023-09-23.\n",
      "Instructions for updating:\n",
      "Lambda fuctions will be no more assumed to be used in the statement where they are used, or at least in the same block. https://github.com/tensorflow/tensorflow/issues/56089\n"
     ]
    },
    {
     "name": "stderr",
     "output_type": "stream",
     "text": [
      "2025-04-08 15:17:00.541044: W tensorflow/tsl/platform/profile_utils/cpu_utils.cc:128] Failed to get CPU frequency: 0 Hz\n"
     ]
    },
    {
     "data": {
      "text/plain": [
       "<tf.Tensor: shape=(), dtype=float32, numpy=0.90137863>"
      ]
     },
     "execution_count": 12,
     "metadata": {},
     "output_type": "execute_result"
    }
   ],
   "source": [
    "Composed = ltn.Predicate(tf_ComposeModel(knowledge_base))\n",
    "\n",
    "### Axioms\n",
    "@tf.function\n",
    "def axioms(images_x, p_schedule=tf.constant(2.)):   \n",
    "    images_upper = ltn.Variable(\"upper\", images_x[:, :14, :])\n",
    "    images_lower = ltn.Variable(\"lower\", images_x[:, 14:, :])\n",
    "    images_x = ltn.Variable(\"x\", images_x)\n",
    "    axiom = Forall(\n",
    "            ltn.diag(images_x,images_upper,images_lower),\n",
    "            Exists(\n",
    "                (c, p1, p2),\n",
    "                Implies(And(Part([images_upper, p1]), Part([images_lower, p2])), Char([images_x, c])),\n",
    "                #And(Char([images_x, c]), And(Part([images_upper, p1]), Part([images_lower, p2]))),\n",
    "                mask=Composed([c, p1, p2]),\n",
    "                p=p_schedule\n",
    "            ),\n",
    "            p=2\n",
    "        )\n",
    "    sat = axiom.tensor\n",
    "    return sat\n",
    "\n",
    "images_x = next(ds_train.as_numpy_iterator())\n",
    "axioms(images_x)"
   ]
  },
  {
   "cell_type": "markdown",
   "id": "cf59414f",
   "metadata": {},
   "source": [
    "### Training\n",
    "\n",
    "Run the following four cells to train the LTN to satisfy the defined logic formula for the training dataset."
   ]
  },
  {
   "cell_type": "code",
   "execution_count": 13,
   "id": "7964a3d8",
   "metadata": {},
   "outputs": [],
   "source": [
    "optimizer = tf.keras.optimizers.legacy.Adam(0.001)\n",
    "metrics_dict = {\n",
    "    'train_loss': tf.keras.metrics.Mean(name=\"train_loss\"),\n",
    "    'test_loss': tf.keras.metrics.Mean(name=\"test_loss\"),\n",
    "}\n",
    "\n",
    "@tf.function\n",
    "def train_step(images_x, **parameters):\n",
    "    # loss\n",
    "    with tf.GradientTape(persistent=True) as tape:\n",
    "        loss = 1.- axioms(images_x, **parameters)\n",
    "    # train Char model\n",
    "    gradients = tape.gradient(loss, char_model.trainable_variables)\n",
    "    optimizer.apply_gradients(zip(gradients, char_model.trainable_variables))\n",
    "    # train Part model\n",
    "    gradients = tape.gradient(loss, part_model.trainable_variables)\n",
    "    optimizer.apply_gradients(zip(gradients, part_model.trainable_variables))\n",
    "    metrics_dict['train_loss'](loss)\n",
    "    \n",
    "@tf.function\n",
    "def test_step(images_x, **parameters):\n",
    "    # loss\n",
    "    loss = 1.- axioms(images_x, **parameters)\n",
    "    metrics_dict['test_loss'](loss)"
   ]
  },
  {
   "cell_type": "code",
   "execution_count": 14,
   "id": "64e43b09",
   "metadata": {},
   "outputs": [],
   "source": [
    "from collections import defaultdict\n",
    "\n",
    "scheduled_parameters = defaultdict(lambda: {})\n",
    "for epoch in range(0,4):\n",
    "    scheduled_parameters[epoch] = {\"p_schedule\":tf.constant(1.)}\n",
    "for epoch in range(4,8):\n",
    "    scheduled_parameters[epoch] = {\"p_schedule\":tf.constant(2.)}\n",
    "for epoch in range(8,12):\n",
    "    scheduled_parameters[epoch] = {\"p_schedule\":tf.constant(4.)}\n",
    "for epoch in range(12,20):\n",
    "    scheduled_parameters[epoch] = {\"p_schedule\":tf.constant(6.)}"
   ]
  },
  {
   "cell_type": "code",
   "execution_count": 15,
   "id": "ff669e03",
   "metadata": {},
   "outputs": [],
   "source": [
    "def run_training(epochs, metrics_dict, ds_train, ds_test, train_step, test_step, scheduled_parameters):\n",
    "    template = \"Epoch {}\"\n",
    "    for metrics_label in metrics_dict.keys():\n",
    "        template += \", %s: {:.4f}\" % metrics_label\n",
    "\n",
    "    for epoch in range(epochs):\n",
    "        for metrics in metrics_dict.values():\n",
    "            metrics.reset_states()\n",
    "\n",
    "        for batch_elements in ds_train:\n",
    "            train_step(batch_elements,**scheduled_parameters[epoch])\n",
    "        for batch_elements in ds_test:\n",
    "            test_step(batch_elements,**scheduled_parameters[epoch])\n",
    "\n",
    "        metrics_results = [metrics.result() for metrics in metrics_dict.values()]\n",
    "        print(template.format(epoch,*metrics_results))"
   ]
  },
  {
   "cell_type": "code",
   "execution_count": 16,
   "id": "117de0f3",
   "metadata": {},
   "outputs": [
    {
     "name": "stdout",
     "output_type": "stream",
     "text": [
      "Epoch 0, train_loss: 0.0186, test_loss: 0.0002\n",
      "Epoch 1, train_loss: 0.0002, test_loss: 0.0002\n",
      "Epoch 2, train_loss: 0.0002, test_loss: 0.0002\n",
      "Epoch 3, train_loss: 0.0002, test_loss: 0.0002\n",
      "Epoch 4, train_loss: 0.0002, test_loss: 0.0002\n",
      "Epoch 5, train_loss: 0.0002, test_loss: 0.0002\n",
      "Epoch 6, train_loss: 0.0002, test_loss: 0.0002\n",
      "Epoch 7, train_loss: 0.0002, test_loss: 0.0002\n",
      "Epoch 8, train_loss: 0.0002, test_loss: 0.0002\n",
      "Epoch 9, train_loss: 0.0002, test_loss: 0.0002\n",
      "Epoch 10, train_loss: 0.0002, test_loss: 0.0002\n",
      "Epoch 11, train_loss: 0.0002, test_loss: 0.0002\n",
      "Epoch 12, train_loss: 0.0002, test_loss: 0.0002\n",
      "Epoch 13, train_loss: 0.0002, test_loss: 0.0002\n",
      "Epoch 14, train_loss: 0.0002, test_loss: 0.0002\n",
      "Epoch 15, train_loss: 0.0002, test_loss: 0.0002\n",
      "Epoch 16, train_loss: 0.0002, test_loss: 0.0002\n",
      "Epoch 17, train_loss: 0.0002, test_loss: 0.0002\n",
      "Epoch 18, train_loss: 0.0002, test_loss: 0.0002\n",
      "Epoch 19, train_loss: 0.0002, test_loss: 0.0002\n"
     ]
    }
   ],
   "source": [
    "run_training(20, metrics_dict, ds_train, ds_test, train_step, test_step, scheduled_parameters)"
   ]
  },
  {
   "cell_type": "markdown",
   "id": "e669144e",
   "metadata": {},
   "source": [
    "### Evaluation\n",
    "\n",
    "Run the following four cells to evaluate the character and shape recognizer you trained."
   ]
  },
  {
   "cell_type": "code",
   "execution_count": 17,
   "id": "bcc1406e",
   "metadata": {},
   "outputs": [],
   "source": [
    "def char_test_generator(paths):\n",
    "    batch_size = 8\n",
    "    classes = 9\n",
    "    images = []\n",
    "    labels = []\n",
    "    \n",
    "    batches = len(paths) // batch_size\n",
    "    matcher = re.compile('.*/(\\d+)_.*')\n",
    "    for idx in range(batches * batch_size):\n",
    "        cls = int(matcher.match(paths[idx]).group(1))\n",
    "        label = np.zeros(classes)\n",
    "        label[cls] = 1\n",
    "        images.append(np.array(Image.open(paths[idx])))\n",
    "        labels.append(label)\n",
    "    \n",
    "    print(len(images))\n",
    "    for i in range(batches):\n",
    "        \n",
    "        inputs = np.array(images[i*batch_size:i*batch_size+batch_size])\n",
    "        targets = np.array(labels[i*batch_size:i*batch_size+batch_size])\n",
    "        \n",
    "        yield inputs, targets"
   ]
  },
  {
   "cell_type": "code",
   "execution_count": 18,
   "id": "c42a1831",
   "metadata": {},
   "outputs": [],
   "source": [
    "def part_test_generator(paths):\n",
    "   \n",
    "    label_map = {'3': [1, 0, 0], '4': [0, 1, 0], '6': [0, 0, 1]}\n",
    "    \n",
    "    images = []\n",
    "    labels = []\n",
    "    for cls in label_map:\n",
    "        matcher = re.compile(f'.*_{cls}_\\d+.png')    \n",
    "        all_paths = [path for path in paths if matcher.match(path)]\n",
    "        images += [np.array(Image.open(f))[14:, :] for f in all_paths]\n",
    "        labels += [label_map[cls] for _ in range(len(all_paths))]\n",
    "    \n",
    "    print(len(images))\n",
    "    for i in range(len(images)):\n",
    "        \n",
    "        inputs = [images[i], ]\n",
    "        targets = [labels[i], ]\n",
    "        \n",
    "        yield np.array(inputs), np.array(targets)"
   ]
  },
  {
   "cell_type": "code",
   "execution_count": 19,
   "id": "6dc28f78",
   "metadata": {},
   "outputs": [
    {
     "name": "stdout",
     "output_type": "stream",
     "text": [
      "200\n",
      "25/25 [==============================] - 0s 14ms/step - loss: 4.2749 - accuracy: 0.1650\n"
     ]
    },
    {
     "data": {
      "text/plain": [
       "[4.274889945983887, 0.16500000655651093]"
      ]
     },
     "execution_count": 19,
     "metadata": {},
     "output_type": "execute_result"
    }
   ],
   "source": [
    "char_model.compile(loss='categorical_crossentropy', metrics=['accuracy'])\n",
    "char_model.evaluate(char_test_generator(test_paths))"
   ]
  },
  {
   "cell_type": "code",
   "execution_count": 20,
   "id": "46023851",
   "metadata": {},
   "outputs": [
    {
     "name": "stdout",
     "output_type": "stream",
     "text": [
      "200\n",
      "200/200 [==============================] - 0s 547us/step - loss: 4.8354 - accuracy: 0.3000\n"
     ]
    },
    {
     "data": {
      "text/plain": [
       "[4.83543062210083, 0.30000001192092896]"
      ]
     },
     "execution_count": 20,
     "metadata": {},
     "output_type": "execute_result"
    }
   ],
   "source": [
    "part_model.compile(loss='categorical_crossentropy', metrics=['accuracy'])\n",
    "part_model.evaluate(part_test_generator(test_paths))"
   ]
  },
  {
   "cell_type": "markdown",
   "id": "d82d55df",
   "metadata": {},
   "source": [
    "Well, that did not go so well $\\dots$"
   ]
  },
  {
   "cell_type": "markdown",
   "id": "9af12232",
   "metadata": {},
   "source": [
    "**Investigation:**\n"
   ]
  },
  {
   "cell_type": "code",
   "execution_count": 21,
   "id": "88d18211",
   "metadata": {},
   "outputs": [
    {
     "name": "stdout",
     "output_type": "stream",
     "text": [
      "1/1 [==============================] - 0s 93ms/step\n"
     ]
    },
    {
     "data": {
      "text/plain": [
       "array([[-19.63618 , -14.07547 , -18.441454, -14.072068,  21.485994,\n",
       "        -15.13011 , -19.08241 , -16.66019 , -18.42557 ],\n",
       "       [-18.732656, -13.543655, -17.514587, -13.40712 ,  20.327065,\n",
       "        -14.511889, -18.246706, -15.774912, -17.56903 ],\n",
       "       [-18.945354, -13.594478, -17.730629, -13.493737,  20.589808,\n",
       "        -14.642647, -18.37982 , -15.969511, -17.716543],\n",
       "       [-18.298668, -13.201932, -17.234224, -13.100579,  19.791683,\n",
       "        -14.167946, -17.825788, -15.488707, -17.17564 ],\n",
       "       [-18.981964, -13.723841, -17.984829, -13.695146,  20.683868,\n",
       "        -14.733885, -18.6742  , -16.167055, -17.898022],\n",
       "       [-18.965548, -13.614233, -17.824411, -13.585549,  20.639683,\n",
       "        -14.689364, -18.429981, -16.045387, -17.770983],\n",
       "       [-18.928009, -13.652045, -17.947165, -13.682171,  20.728775,\n",
       "        -14.720224, -18.460142, -16.142878, -17.886747],\n",
       "       [-18.86325 , -13.574648, -17.747524, -13.478849,  20.538881,\n",
       "        -14.587957, -18.38981 , -15.963417, -17.668179],\n",
       "       [-18.836496, -13.455405, -17.622244, -13.447166,  20.539656,\n",
       "        -14.542502, -18.317196, -15.914404, -17.624744],\n",
       "       [-19.65195 , -14.119647, -18.491829, -14.051642,  21.38108 ,\n",
       "        -15.222017, -19.122036, -16.642775, -18.44149 ],\n",
       "       [-18.501087, -13.321907, -17.31565 , -13.231784,  20.1287  ,\n",
       "        -14.371396, -18.007742, -15.638815, -17.333483],\n",
       "       [-18.830172, -13.525872, -17.637598, -13.416366,  20.458595,\n",
       "        -14.61566 , -18.366493, -15.949466, -17.655273],\n",
       "       [-18.39368 , -13.166979, -17.289362, -13.10499 ,  20.012201,\n",
       "        -14.212025, -17.891186, -15.530817, -17.239464],\n",
       "       [-19.945534, -14.345115, -18.754126, -14.312861,  21.798944,\n",
       "        -15.406165, -19.444818, -16.885767, -18.697758],\n",
       "       [-17.827   , -12.749697, -16.73094 , -12.763137,  19.524372,\n",
       "        -13.735778, -17.281565, -15.029804, -16.671188],\n",
       "       [-18.362123, -13.251609, -17.297823, -13.156036,  19.988865,\n",
       "        -14.292407, -17.960623, -15.498666, -17.242874]], dtype=float32)"
      ]
     },
     "execution_count": 21,
     "metadata": {},
     "output_type": "execute_result"
    }
   ],
   "source": [
    "char_model.predict(x)"
   ]
  },
  {
   "cell_type": "code",
   "execution_count": 22,
   "id": "3fde50bf",
   "metadata": {},
   "outputs": [
    {
     "name": "stdout",
     "output_type": "stream",
     "text": [
      "1/1 [==============================] - 0s 46ms/step\n"
     ]
    },
    {
     "data": {
      "text/plain": [
       "array([[-14.054152,  18.437103, -15.519898],\n",
       "       [-13.120955,  17.295427, -14.557451],\n",
       "       [-13.590401,  18.00474 , -15.105279],\n",
       "       [-12.173658,  16.050629, -13.597983],\n",
       "       [-12.679753,  16.492271, -13.879429],\n",
       "       [-13.666438,  17.896757, -15.059108],\n",
       "       [-13.116292,  17.100866, -14.413638],\n",
       "       [-12.810321,  16.911087, -14.165469],\n",
       "       [-13.236772,  17.470291, -14.736918],\n",
       "       [-13.965349,  18.29918 , -15.377418],\n",
       "       [-13.092767,  17.386398, -14.621436],\n",
       "       [-13.425059,  17.66828 , -14.957526],\n",
       "       [-13.071721,  17.185734, -14.425036],\n",
       "       [-13.769554,  18.1084  , -15.2363  ],\n",
       "       [-12.492217,  16.55622 , -13.938214],\n",
       "       [-12.328397,  16.326336, -13.745296]], dtype=float32)"
      ]
     },
     "execution_count": 22,
     "metadata": {},
     "output_type": "execute_result"
    }
   ],
   "source": [
    "part_model.predict(x[:, :14, :])"
   ]
  },
  {
   "cell_type": "code",
   "execution_count": 23,
   "id": "a42bf09a",
   "metadata": {},
   "outputs": [
    {
     "name": "stdout",
     "output_type": "stream",
     "text": [
      "1/1 [==============================] - 0s 17ms/step\n"
     ]
    },
    {
     "data": {
      "text/plain": [
       "array([[-13.079621 ,  17.166897 , -14.467666 ],\n",
       "       [-13.295223 ,  17.443317 , -14.699135 ],\n",
       "       [-12.983939 ,  17.14212  , -14.507516 ],\n",
       "       [-13.379796 ,  17.641811 , -14.826606 ],\n",
       "       [-13.911267 ,  18.223255 , -15.37563  ],\n",
       "       [-12.880252 ,  17.012133 , -14.371983 ],\n",
       "       [-13.437924 ,  17.566368 , -14.759748 ],\n",
       "       [-13.537031 ,  17.768476 , -14.941793 ],\n",
       "       [-12.979217 ,  17.03691  , -14.303206 ],\n",
       "       [-13.793344 ,  18.098171 , -15.217894 ],\n",
       "       [-12.7352085,  16.802052 , -14.14696  ],\n",
       "       [-13.189538 ,  17.18145  , -14.539456 ],\n",
       "       [-13.149375 ,  17.178368 , -14.490127 ],\n",
       "       [-13.675128 ,  18.041521 , -15.188149 ],\n",
       "       [-12.144174 ,  16.07123  , -13.525333 ],\n",
       "       [-13.261117 ,  17.480999 , -14.716254 ]], dtype=float32)"
      ]
     },
     "execution_count": 23,
     "metadata": {},
     "output_type": "execute_result"
    }
   ],
   "source": [
    "part_model.predict(x[:, 14:, :])"
   ]
  },
  {
   "cell_type": "code",
   "execution_count": 24,
   "id": "e7ab6cc0",
   "metadata": {},
   "outputs": [
    {
     "data": {
      "text/plain": [
       "<matplotlib.image.AxesImage at 0x30bc63850>"
      ]
     },
     "execution_count": 24,
     "metadata": {},
     "output_type": "execute_result"
    },
    {
     "data": {
      "image/png": "[encoded data removed]",
      "text/plain": [
       "<Figure size 640x480 with 1 Axes>"
      ]
     },
     "metadata": {},
     "output_type": "display_data"
    }
   ],
   "source": [
    "plt.subplot(121)\n",
    "plt.imshow(x[1][:,:])"
   ]
  }
 ],
 "metadata": {
  "kernelspec": {
   "display_name": "xaai",
   "language": "python",
   "name": "xaai"
  },
  "language_info": {
   "codemirror_mode": {
    "name": "ipython",
    "version": 3
   },
   "file_extension": ".py",
   "mimetype": "text/x-python",
   "name": "python",
   "nbconvert_exporter": "python",
   "pygments_lexer": "ipython3",
   "version": "3.9.19"
  },
  "widgets": {
   "application/vnd.jupyter.widget-state+json": {
    "state": {},
    "version_major": 2,
    "version_minor": 0
   }
  }
 },
 "nbformat": 4,
 "nbformat_minor": 5
}
