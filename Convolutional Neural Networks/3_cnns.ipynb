{
 "cells": [
  {
   "cell_type": "code",
   "execution_count": null,
   "id": "4152ce78",
   "metadata": {},
   "outputs": [],
   "source": [
    "import os\n",
    "os.environ[\"KMP_DUPLICATE_LIB_OK\"] = \"TRUE\""
   ]
  },
  {
   "cell_type": "code",
   "execution_count": 1,
   "id": "3132b1d5",
   "metadata": {},
   "outputs": [],
   "source": [
    "import tensorflow as tf\n",
    "from tensorflow.keras import layers\n",
    "import numpy as np"
   ]
  },
  {
   "cell_type": "code",
   "execution_count": 2,
   "id": "f70cf614",
   "metadata": {},
   "outputs": [],
   "source": [
    "import matplotlib.pyplot as plt"
   ]
  },
  {
   "cell_type": "markdown",
   "id": "02cdfa05",
   "metadata": {},
   "source": [
    "# L3 - CNNs\n",
    "\n",
    "Here is a link to an interactive guide to learn about CNNs: [Cnn-explainer](https://poloclub.github.io/cnn-explainer/)"
   ]
  },
  {
   "cell_type": "markdown",
   "id": "82cb0e6c",
   "metadata": {},
   "source": [
    "## Digit Classification"
   ]
  },
  {
   "cell_type": "code",
   "execution_count": 3,
   "id": "674e515f",
   "metadata": {},
   "outputs": [],
   "source": [
    "# Load MNIST dataset\n",
    "(x_train, y_train), (x_test, y_test) = tf.keras.datasets.mnist.load_data()"
   ]
  },
  {
   "cell_type": "code",
   "execution_count": 4,
   "id": "91cb6412",
   "metadata": {},
   "outputs": [
    {
     "name": "stdout",
     "output_type": "stream",
     "text": [
      "Training images: (60000, 28, 28) of type: uint8\n",
      "Training labels: (60000,) of type: uint8\n"
     ]
    }
   ],
   "source": [
    "print(f\"Training images: {x_train.shape} of type: {x_train.dtype}\")\n",
    "print(f\"Training labels: {y_train.shape} of type: {y_train.dtype}\")"
   ]
  },
  {
   "cell_type": "code",
   "execution_count": 5,
   "id": "5b8f7d76",
   "metadata": {},
   "outputs": [],
   "source": [
    "# resphape to add channel\n",
    "x_train = x_train.reshape((*x_train.shape, 1))\n",
    "x_test = x_test.reshape((*x_test.shape, 1))"
   ]
  },
  {
   "cell_type": "code",
   "execution_count": 6,
   "id": "8922d92a",
   "metadata": {},
   "outputs": [
    {
     "name": "stdout",
     "output_type": "stream",
     "text": [
      "Training images: (60000, 28, 28, 1) of type: uint8\n",
      "Test images: (10000, 28, 28, 1) of type: uint8\n"
     ]
    }
   ],
   "source": [
    "print(f\"Training images: {x_train.shape} of type: {x_train.dtype}\")\n",
    "print(f\"Test images: {x_test.shape} of type: {x_test.dtype}\")"
   ]
  },
  {
   "cell_type": "markdown",
   "id": "d0bc0ba1",
   "metadata": {},
   "source": [
    "### Base Model"
   ]
  },
  {
   "cell_type": "code",
   "execution_count": 7,
   "id": "19197b99",
   "metadata": {},
   "outputs": [],
   "source": [
    "def make_base_model(input_shape, classes):\n",
    "    inputs = tf.keras.Input(shape=input_shape)\n",
    "    \n",
    "    x = layers.Conv2D(8, 3, activation='relu')(inputs)\n",
    "    x = layers.MaxPool2D()(x)\n",
    "    x = layers.Conv2D(16, 3, activation='relu')(x)\n",
    "    x = layers.MaxPool2D()(x)\n",
    "    x = layers.Flatten()(x)\n",
    "    \n",
    "    outputs = layers.Dense(classes, activation='softmax')(x)\n",
    "    \n",
    "    return tf.keras.Model(inputs, outputs)"
   ]
  },
  {
   "cell_type": "code",
   "execution_count": 8,
   "id": "cefa254b",
   "metadata": {},
   "outputs": [
    {
     "name": "stdout",
     "output_type": "stream",
     "text": [
      "Model: \"model\"\n",
      "_________________________________________________________________\n",
      " Layer (type)                Output Shape              Param #   \n",
      "=================================================================\n",
      " input_1 (InputLayer)        [(None, 28, 28, 1)]       0         \n",
      "                                                                 \n",
      " conv2d (Conv2D)             (None, 26, 26, 8)         80        \n",
      "                                                                 \n",
      " max_pooling2d (MaxPooling2D  (None, 13, 13, 8)        0         \n",
      " )                                                               \n",
      "                                                                 \n",
      " conv2d_1 (Conv2D)           (None, 11, 11, 16)        1168      \n",
      "                                                                 \n",
      " max_pooling2d_1 (MaxPooling  (None, 5, 5, 16)         0         \n",
      " 2D)                                                             \n",
      "                                                                 \n",
      " flatten (Flatten)           (None, 400)               0         \n",
      "                                                                 \n",
      " dense (Dense)               (None, 10)                4010      \n",
      "                                                                 \n",
      "=================================================================\n",
      "Total params: 5,258\n",
      "Trainable params: 5,258\n",
      "Non-trainable params: 0\n",
      "_________________________________________________________________\n"
     ]
    }
   ],
   "source": [
    "base_cnn = make_base_model(x_train.shape[1:], len(np.unique(y_train)))\n",
    "base_cnn.summary()"
   ]
  },
  {
   "cell_type": "code",
   "execution_count": 9,
   "id": "bd0a8a5c",
   "metadata": {},
   "outputs": [],
   "source": [
    "base_cnn.compile(\n",
    "    optimizer=tf.keras.optimizers.Adam(),\n",
    "    loss=tf.keras.losses.SparseCategoricalCrossentropy(),\n",
    "    metrics=['accuracy']\n",
    ")"
   ]
  },
  {
   "cell_type": "code",
   "execution_count": 10,
   "id": "a9ee50e6",
   "metadata": {},
   "outputs": [
    {
     "name": "stdout",
     "output_type": "stream",
     "text": [
      "Epoch 1/3\n",
      "3750/3750 [==============================] - 173s 46ms/step - loss: 0.6439 - accuracy: 0.9130\n",
      "Epoch 2/3\n",
      "3750/3750 [==============================] - 184s 49ms/step - loss: 0.0973 - accuracy: 0.9705\n",
      "Epoch 3/3\n",
      "3750/3750 [==============================] - 148s 40ms/step - loss: 0.0736 - accuracy: 0.9777\n"
     ]
    },
    {
     "data": {
      "text/plain": [
       "<keras.callbacks.History at 0x1f53e7fd100>"
      ]
     },
     "execution_count": 10,
     "metadata": {},
     "output_type": "execute_result"
    }
   ],
   "source": [
    "base_cnn.fit(\n",
    "    x=x_train, y=y_train,\n",
    "    batch_size=16,\n",
    "    epochs=3,\n",
    ")"
   ]
  },
  {
   "cell_type": "code",
   "execution_count": 11,
   "id": "5f6f1ec8",
   "metadata": {},
   "outputs": [
    {
     "name": "stdout",
     "output_type": "stream",
     "text": [
      "313/313 [==============================] - 1s 1ms/step - loss: 0.0665 - accuracy: 0.9792\n"
     ]
    },
    {
     "data": {
      "text/plain": [
       "[0.06653501093387604, 0.979200005531311]"
      ]
     },
     "execution_count": 11,
     "metadata": {},
     "output_type": "execute_result"
    }
   ],
   "source": [
    "base_cnn.evaluate(\n",
    "    x=x_test, y=y_test\n",
    ")"
   ]
  },
  {
   "cell_type": "markdown",
   "id": "5a1955f6",
   "metadata": {},
   "source": [
    "$\\Rightarrow$ slightly better performance than our Multi-layer Perceptron with much fewer parameters ($235\\,146$ vs. $5\\,258$)"
   ]
  },
  {
   "cell_type": "markdown",
   "id": "51a4970a",
   "metadata": {},
   "source": [
    "### Dilated Covolutions"
   ]
  },
  {
   "cell_type": "code",
   "execution_count": 12,
   "id": "ea910716",
   "metadata": {},
   "outputs": [],
   "source": [
    "def make_dilated_model(input_shape, classes, dilation_rate):\n",
    "    inputs = tf.keras.Input(shape=input_shape)\n",
    "    \n",
    "    x = layers.Conv2D(8, 3, activation='relu', dilation_rate=dilation_rate)(inputs)\n",
    "    x = layers.MaxPool2D()(x)\n",
    "    x = layers.Conv2D(16, 3, activation='relu', dilation_rate=dilation_rate)(x)\n",
    "    x = layers.MaxPool2D()(x)\n",
    "    x = layers.Flatten()(x)\n",
    "    \n",
    "    outputs = layers.Dense(classes, activation='softmax')(x)\n",
    "    \n",
    "    return tf.keras.Model(inputs, outputs)"
   ]
  },
  {
   "cell_type": "code",
   "execution_count": 13,
   "id": "a4de3801",
   "metadata": {},
   "outputs": [
    {
     "name": "stdout",
     "output_type": "stream",
     "text": [
      "Model: \"model_1\"\n",
      "_________________________________________________________________\n",
      " Layer (type)                Output Shape              Param #   \n",
      "=================================================================\n",
      " input_2 (InputLayer)        [(None, 28, 28, 1)]       0         \n",
      "                                                                 \n",
      " conv2d_2 (Conv2D)           (None, 24, 24, 8)         80        \n",
      "                                                                 \n",
      " max_pooling2d_2 (MaxPooling  (None, 12, 12, 8)        0         \n",
      " 2D)                                                             \n",
      "                                                                 \n",
      " conv2d_3 (Conv2D)           (None, 8, 8, 16)          1168      \n",
      "                                                                 \n",
      " max_pooling2d_3 (MaxPooling  (None, 4, 4, 16)         0         \n",
      " 2D)                                                             \n",
      "                                                                 \n",
      " flatten_1 (Flatten)         (None, 256)               0         \n",
      "                                                                 \n",
      " dense_1 (Dense)             (None, 10)                2570      \n",
      "                                                                 \n",
      "=================================================================\n",
      "Total params: 3,818\n",
      "Trainable params: 3,818\n",
      "Non-trainable params: 0\n",
      "_________________________________________________________________\n"
     ]
    }
   ],
   "source": [
    "dilated_cnn = make_dilated_model(x_train.shape[1:], len(np.unique(y_train)), 2)\n",
    "dilated_cnn.summary()"
   ]
  },
  {
   "cell_type": "code",
   "execution_count": 14,
   "id": "8cd119d2",
   "metadata": {},
   "outputs": [],
   "source": [
    "dilated_cnn.compile(\n",
    "    optimizer=tf.keras.optimizers.Adam(),\n",
    "    loss=tf.keras.losses.SparseCategoricalCrossentropy(),\n",
    "    metrics=['accuracy']\n",
    ")"
   ]
  },
  {
   "cell_type": "code",
   "execution_count": 15,
   "id": "2793bc97",
   "metadata": {},
   "outputs": [
    {
     "name": "stdout",
     "output_type": "stream",
     "text": [
      "Epoch 1/3\n",
      "3750/3750 [==============================] - 110s 29ms/step - loss: 1.1523 - accuracy: 0.8855\n",
      "Epoch 2/3\n",
      "3750/3750 [==============================] - 120s 32ms/step - loss: 0.1245 - accuracy: 0.9630\n",
      "Epoch 3/3\n",
      "3750/3750 [==============================] - 107s 28ms/step - loss: 0.0882 - accuracy: 0.9731\n"
     ]
    },
    {
     "data": {
      "text/plain": [
       "<keras.callbacks.History at 0x1f5415887c0>"
      ]
     },
     "execution_count": 15,
     "metadata": {},
     "output_type": "execute_result"
    }
   ],
   "source": [
    "dilated_cnn.fit(\n",
    "    x=x_train, y=y_train,\n",
    "    batch_size=16,\n",
    "    epochs=3,\n",
    ")"
   ]
  },
  {
   "cell_type": "code",
   "execution_count": 16,
   "id": "6f35ec3e",
   "metadata": {},
   "outputs": [
    {
     "name": "stdout",
     "output_type": "stream",
     "text": [
      "313/313 [==============================] - 1s 1ms/step - loss: 0.0730 - accuracy: 0.9765\n"
     ]
    },
    {
     "data": {
      "text/plain": [
       "[0.07298260182142258, 0.9764999747276306]"
      ]
     },
     "execution_count": 16,
     "metadata": {},
     "output_type": "execute_result"
    }
   ],
   "source": [
    "dilated_cnn.evaluate(\n",
    "    x=x_test, y=y_test\n",
    ")"
   ]
  },
  {
   "cell_type": "markdown",
   "id": "bc6d2805",
   "metadata": {},
   "source": [
    "$\\Rightarrow$ somewhat worse performance, but note that we have even fewer parameters and that dilated convolutions are \n",
    "probably not a good fit for MNIST"
   ]
  },
  {
   "cell_type": "markdown",
   "id": "3d54800c",
   "metadata": {},
   "source": [
    "### Separable Convolutions\n",
    "\n",
    "In contrast to normal convolutions, which apply a convolutional kernel across all channels, depth-wise separable covolutions \n",
    "apply one filter per channel and then combine the channels in a second step into one output feature map by applying $1\\times1$ \n",
    "convolutions. In order to obtain multiple output feature maps, multiple $1\\times1$ convolutional kernels are applied."
   ]
  },
  {
   "cell_type": "code",
   "execution_count": 17,
   "id": "90a7f513",
   "metadata": {},
   "outputs": [],
   "source": [
    "def make_seperable_model(input_shape, classes):\n",
    "    inputs = tf.keras.Input(shape=input_shape)\n",
    "    \n",
    "    # Separable Convolutions don't make sense here, since we have only on input channel\n",
    "    x = layers.Conv2D(8, 3, activation='relu')(inputs)\n",
    "    x = layers.MaxPool2D()(x)\n",
    "    x = layers.SeparableConv2D(16, 3, activation='relu')(x)\n",
    "    x = layers.MaxPool2D()(x)\n",
    "    x = layers.Flatten()(x)\n",
    "    \n",
    "    outputs = layers.Dense(classes, activation='softmax')(x)\n",
    "    \n",
    "    return tf.keras.Model(inputs, outputs)"
   ]
  },
  {
   "cell_type": "code",
   "execution_count": 18,
   "id": "644e6426",
   "metadata": {},
   "outputs": [
    {
     "name": "stdout",
     "output_type": "stream",
     "text": [
      "Model: \"model_2\"\n",
      "_________________________________________________________________\n",
      " Layer (type)                Output Shape              Param #   \n",
      "=================================================================\n",
      " input_3 (InputLayer)        [(None, 28, 28, 1)]       0         \n",
      "                                                                 \n",
      " conv2d_4 (Conv2D)           (None, 26, 26, 8)         80        \n",
      "                                                                 \n",
      " max_pooling2d_4 (MaxPooling  (None, 13, 13, 8)        0         \n",
      " 2D)                                                             \n",
      "                                                                 \n",
      " separable_conv2d (Separable  (None, 11, 11, 16)       216       \n",
      " Conv2D)                                                         \n",
      "                                                                 \n",
      " max_pooling2d_5 (MaxPooling  (None, 5, 5, 16)         0         \n",
      " 2D)                                                             \n",
      "                                                                 \n",
      " flatten_2 (Flatten)         (None, 400)               0         \n",
      "                                                                 \n",
      " dense_2 (Dense)             (None, 10)                4010      \n",
      "                                                                 \n",
      "=================================================================\n",
      "Total params: 4,306\n",
      "Trainable params: 4,306\n",
      "Non-trainable params: 0\n",
      "_________________________________________________________________\n"
     ]
    }
   ],
   "source": [
    "separable_cnn = make_seperable_model(x_train.shape[1:], len(np.unique(y_train)))\n",
    "separable_cnn.summary()"
   ]
  },
  {
   "cell_type": "markdown",
   "id": "8563aa27",
   "metadata": {},
   "source": [
    "Here, the number of paramters for the separable convolution is calculated as follows:\n",
    "\n",
    "`kernel_size` $\\cdot$ `in_channel_number` (convolutional kernel per channel) \n",
    "\n",
    "$+$ `in_channel_number` $\\cdot$ `out_channel_number` (size of $1\\times1$ convolutions times their number)\n",
    "\n",
    "$+$ `out_channel_number` (biases for each $1\\times1$ convolution)"
   ]
  },
  {
   "cell_type": "code",
   "execution_count": 19,
   "id": "344cc9fe",
   "metadata": {},
   "outputs": [],
   "source": [
    "separable_cnn.compile(\n",
    "    optimizer=tf.keras.optimizers.Adam(),\n",
    "    loss=tf.keras.losses.SparseCategoricalCrossentropy(),\n",
    "    metrics=['accuracy']\n",
    ")"
   ]
  },
  {
   "cell_type": "code",
   "execution_count": 20,
   "id": "15030732",
   "metadata": {},
   "outputs": [
    {
     "name": "stdout",
     "output_type": "stream",
     "text": [
      "Epoch 1/3\n",
      "3750/3750 [==============================] - 116s 31ms/step - loss: 0.5449 - accuracy: 0.9003\n",
      "Epoch 2/3\n",
      "3750/3750 [==============================] - 60s 16ms/step - loss: 0.1178 - accuracy: 0.9639\n",
      "Epoch 3/3\n",
      "3750/3750 [==============================] - 51s 14ms/step - loss: 0.0851 - accuracy: 0.9732\n"
     ]
    },
    {
     "data": {
      "text/plain": [
       "<keras.callbacks.History at 0x1f5439042b0>"
      ]
     },
     "execution_count": 20,
     "metadata": {},
     "output_type": "execute_result"
    }
   ],
   "source": [
    "separable_cnn.fit(\n",
    "    x=x_train, y=y_train,\n",
    "    batch_size=16,\n",
    "    epochs=3,\n",
    ")"
   ]
  },
  {
   "cell_type": "code",
   "execution_count": 21,
   "id": "d12c5f55",
   "metadata": {},
   "outputs": [
    {
     "name": "stdout",
     "output_type": "stream",
     "text": [
      "313/313 [==============================] - 1s 1ms/step - loss: 0.0835 - accuracy: 0.9740\n"
     ]
    },
    {
     "data": {
      "text/plain": [
       "[0.08348453044891357, 0.9739999771118164]"
      ]
     },
     "execution_count": 21,
     "metadata": {},
     "output_type": "execute_result"
    }
   ],
   "source": [
    "separable_cnn.evaluate(\n",
    "    x=x_test, y=y_test\n",
    ")"
   ]
  },
  {
   "cell_type": "markdown",
   "id": "e1f90c9f",
   "metadata": {},
   "source": [
    "## Denoising MNIST"
   ]
  },
  {
   "cell_type": "code",
   "execution_count": null,
   "id": "3baafa95",
   "metadata": {},
   "outputs": [
    {
     "ename": "",
     "evalue": "",
     "output_type": "error",
     "traceback": [
      "\u001b[1;31mThe Kernel crashed while executing code in the current cell or a previous cell. \n",
      "\u001b[1;31mPlease review the code in the cell(s) to identify a possible cause of the failure. \n",
      "\u001b[1;31mClick <a href='https://aka.ms/vscodeJupyterKernelCrash'>here</a> for more info. \n",
      "\u001b[1;31mView Jupyter <a href='command:jupyter.viewOutput'>log</a> for further details."
     ]
    }
   ],
   "source": [
    "# prepare target data\n",
    "x_train_target = x_train.copy()\n",
    "x_test_target = x_test.copy()\n",
    "\n",
    "# binarize\n",
    "x_train_target[x_train_target < 125] = 0\n",
    "x_train_target[x_train_target >= 125] = 1\n",
    "x_test_target[x_test_target < 125] = 0\n",
    "x_test_target[x_test_target >= 125] = 1"
   ]
  },
  {
   "cell_type": "code",
   "execution_count": null,
   "id": "c8d9f58c",
   "metadata": {},
   "outputs": [],
   "source": [
    "plt.figure(figsize=(10, 10))\n",
    "for i in range(9):\n",
    "    ax = plt.subplot(3, 3, i + 1)\n",
    "    plt.imshow((x_train_target[i] * 255).astype('uint8'))\n",
    "    plt.axis('off')\n",
    "plt.show()"
   ]
  },
  {
   "cell_type": "code",
   "execution_count": null,
   "id": "c3ce9674",
   "metadata": {},
   "outputs": [],
   "source": [
    "# prepare input data\n",
    "x_train_input = x_train.copy()\n",
    "x_test_input = x_test.copy()\n",
    "\n",
    "# add salt and pepper noise\n",
    "rng = np.random.default_rng(42)\n",
    "train_mask = rng.binomial(1, 0.4, x_train_input.shape)\n",
    "train_noise = rng.binomial(1, 0.5, x_train_input.shape) * 255\n",
    "test_mask = rng.binomial(1, 0.4, x_test_input.shape)\n",
    "test_noise = rng.binomial(1, 0.5, x_test_input.shape) * 255\n",
    "\n",
    "x_train_input = x_train_input * (1-train_mask) + train_noise * train_mask\n",
    "x_test_input = x_test_input * (1-test_mask) + test_noise * test_mask\n"
   ]
  },
  {
   "cell_type": "code",
   "execution_count": null,
   "id": "d1eb36a8",
   "metadata": {},
   "outputs": [
    {
     "data": {
      "image/png": "[encoded data removed]",
      "text/plain": [
       "<Figure size 1000x1000 with 9 Axes>"
      ]
     },
     "metadata": {},
     "output_type": "display_data"
    }
   ],
   "source": [
    "plt.figure(figsize=(10, 10))\n",
    "for i in range(9):\n",
    "    ax = plt.subplot(3, 3, i + 1)\n",
    "    plt.imshow((x_train_input[i]).astype('uint8'))\n",
    "    plt.axis('off')\n",
    "plt.show()"
   ]
  },
  {
   "cell_type": "code",
   "execution_count": null,
   "id": "0bb0a871",
   "metadata": {},
   "outputs": [],
   "source": [
    "def make_denoiser_model(input_shape):\n",
    "    inputs = tf.keras.Input(shape=input_shape)\n",
    "    \n",
    "    x = layers.Rescaling(1.0 / 255)(inputs)\n",
    "    \n",
    "    # encoder path\n",
    "    conv1 = layers.Conv2D(8, 3, activation='relu', padding='same')(x)\n",
    "    x = layers.MaxPool2D()(conv1)\n",
    "    conv2 = layers.SeparableConv2D(16, 3, activation='relu', padding='same')(x)\n",
    "    x = layers.MaxPool2D()(conv2)\n",
    "    \n",
    "    # decoder path\n",
    "    x = layers.Conv2DTranspose(16, 3, activation='relu', padding='same')(x)\n",
    "    x = layers.UpSampling2D(2)(x)\n",
    "    x = layers.concatenate([x, conv2])\n",
    "    \n",
    "    x = layers.Conv2DTranspose(8, 3, activation='relu', padding='same')(x)\n",
    "    x = layers.UpSampling2D(2)(x)\n",
    "    x = layers.concatenate([x, conv1])\n",
    "    \n",
    "    outputs = layers.Conv2D(1, 3, activation='sigmoid', padding='same')(x)\n",
    "    \n",
    "    return tf.keras.Model(inputs, outputs)"
   ]
  },
  {
   "cell_type": "code",
   "execution_count": null,
   "id": "b963531e",
   "metadata": {},
   "outputs": [
    {
     "name": "stdout",
     "output_type": "stream",
     "text": [
      "Model: \"model_3\"\n",
      "__________________________________________________________________________________________________\n",
      " Layer (type)                   Output Shape         Param #     Connected to                     \n",
      "==================================================================================================\n",
      " input_4 (InputLayer)           [(None, 28, 28, 1)]  0           []                               \n",
      "                                                                                                  \n",
      " rescaling (Rescaling)          (None, 28, 28, 1)    0           ['input_4[0][0]']                \n",
      "                                                                                                  \n",
      " conv2d_5 (Conv2D)              (None, 28, 28, 8)    80          ['rescaling[0][0]']              \n",
      "                                                                                                  \n",
      " max_pooling2d_6 (MaxPooling2D)  (None, 14, 14, 8)   0           ['conv2d_5[0][0]']               \n",
      "                                                                                                  \n",
      " separable_conv2d_1 (SeparableC  (None, 14, 14, 16)  216         ['max_pooling2d_6[0][0]']        \n",
      " onv2D)                                                                                           \n",
      "                                                                                                  \n",
      " max_pooling2d_7 (MaxPooling2D)  (None, 7, 7, 16)    0           ['separable_conv2d_1[0][0]']     \n",
      "                                                                                                  \n",
      " conv2d_transpose (Conv2DTransp  (None, 7, 7, 16)    2320        ['max_pooling2d_7[0][0]']        \n",
      " ose)                                                                                             \n",
      "                                                                                                  \n",
      " up_sampling2d (UpSampling2D)   (None, 14, 14, 16)   0           ['conv2d_transpose[0][0]']       \n",
      "                                                                                                  \n",
      " concatenate (Concatenate)      (None, 14, 14, 32)   0           ['up_sampling2d[0][0]',          \n",
      "                                                                  'separable_conv2d_1[0][0]']     \n",
      "                                                                                                  \n",
      " conv2d_transpose_1 (Conv2DTran  (None, 14, 14, 8)   2312        ['concatenate[0][0]']            \n",
      " spose)                                                                                           \n",
      "                                                                                                  \n",
      " up_sampling2d_1 (UpSampling2D)  (None, 28, 28, 8)   0           ['conv2d_transpose_1[0][0]']     \n",
      "                                                                                                  \n",
      " concatenate_1 (Concatenate)    (None, 28, 28, 16)   0           ['up_sampling2d_1[0][0]',        \n",
      "                                                                  'conv2d_5[0][0]']               \n",
      "                                                                                                  \n",
      " conv2d_6 (Conv2D)              (None, 28, 28, 1)    145         ['concatenate_1[0][0]']          \n",
      "                                                                                                  \n",
      "==================================================================================================\n",
      "Total params: 5,073\n",
      "Trainable params: 5,073\n",
      "Non-trainable params: 0\n",
      "__________________________________________________________________________________________________\n"
     ]
    }
   ],
   "source": [
    "denoiser_cnn = make_denoiser_model(x_train_input.shape[1:])\n",
    "denoiser_cnn.summary()"
   ]
  },
  {
   "cell_type": "code",
   "execution_count": null,
   "id": "78fac368",
   "metadata": {},
   "outputs": [],
   "source": [
    "denoiser_cnn.compile(\n",
    "    optimizer=tf.keras.optimizers.Adam(),\n",
    "    loss=tf.keras.losses.BinaryCrossentropy(),\n",
    "    metrics=['accuracy', tf.keras.metrics.MeanIoU(num_classes=2)]\n",
    ")"
   ]
  },
  {
   "cell_type": "code",
   "execution_count": null,
   "id": "10c5c5f9",
   "metadata": {},
   "outputs": [
    {
     "name": "stdout",
     "output_type": "stream",
     "text": [
      "Epoch 1/3\n",
      "3750/3750 [==============================] - 28s 7ms/step - loss: 0.1155 - accuracy: 0.9511 - mean_io_u: 0.4333\n",
      "Epoch 2/3\n",
      "3750/3750 [==============================] - 28s 7ms/step - loss: 0.0931 - accuracy: 0.9602 - mean_io_u: 0.4333\n",
      "Epoch 3/3\n",
      "3750/3750 [==============================] - 28s 7ms/step - loss: 0.0852 - accuracy: 0.9642 - mean_io_u: 0.4333\n"
     ]
    },
    {
     "data": {
      "text/plain": [
       "<keras.callbacks.History at 0x7f7f7342aac0>"
      ]
     },
     "execution_count": 30,
     "metadata": {},
     "output_type": "execute_result"
    }
   ],
   "source": [
    "denoiser_cnn.fit(\n",
    "    x=x_train_input, y=x_train_target,\n",
    "    batch_size=16,\n",
    "    epochs=3,\n",
    ")"
   ]
  },
  {
   "cell_type": "code",
   "execution_count": null,
   "id": "b3dc80ce",
   "metadata": {},
   "outputs": [
    {
     "name": "stdout",
     "output_type": "stream",
     "text": [
      "313/313 [==============================] - 2s 6ms/step - loss: 0.0792 - accuracy: 0.9673 - mean_io_u: 0.4324\n"
     ]
    },
    {
     "data": {
      "text/plain": [
       "[0.07919643819332123, 0.9673327803611755, 0.43236982822418213]"
      ]
     },
     "execution_count": 31,
     "metadata": {},
     "output_type": "execute_result"
    }
   ],
   "source": [
    "denoiser_cnn.evaluate(\n",
    "    x=x_test_input, y=x_test_target\n",
    ")"
   ]
  },
  {
   "cell_type": "code",
   "execution_count": null,
   "id": "eb13ecd1",
   "metadata": {},
   "outputs": [
    {
     "data": {
      "image/png": "[encoded data removed]",
      "text/plain": [
       "<Figure size 1000x1000 with 9 Axes>"
      ]
     },
     "metadata": {},
     "output_type": "display_data"
    }
   ],
   "source": [
    "plt.figure(figsize=(10, 10))\n",
    "for i in range(9):\n",
    "    ax = plt.subplot(3, 3, i + 1)\n",
    "    plt.imshow(x_test_input[i])\n",
    "    plt.axis('off')\n",
    "plt.show()"
   ]
  },
  {
   "cell_type": "code",
   "execution_count": null,
   "id": "35c90d93",
   "metadata": {},
   "outputs": [
    {
     "name": "stdout",
     "output_type": "stream",
     "text": [
      "1/1 [==============================] - 0s 114ms/step\n",
      "1/1 [==============================] - 0s 20ms/step\n",
      "1/1 [==============================] - 0s 19ms/step\n",
      "1/1 [==============================] - 0s 20ms/step\n",
      "1/1 [==============================] - 0s 20ms/step\n",
      "1/1 [==============================] - 0s 24ms/step\n",
      "1/1 [==============================] - 0s 20ms/step\n",
      "1/1 [==============================] - 0s 19ms/step\n",
      "1/1 [==============================] - 0s 19ms/step\n"
     ]
    },
    {
     "data": {
      "image/png": "[encoded data removed]",
      "text/plain": [
       "<Figure size 1000x1000 with 9 Axes>"
      ]
     },
     "metadata": {},
     "output_type": "display_data"
    }
   ],
   "source": [
    "plt.figure(figsize=(10, 10))\n",
    "imgs = []\n",
    "for i in range(9):\n",
    "    img = denoiser_cnn.predict(x_test_input[i].reshape(1, *x_test_input.shape[1:]))\n",
    "    imgs.append((img.reshape(x_test_input.shape[1:-1]) * 255).astype('uint8'))\n",
    "for i in range(9):\n",
    "    ax = plt.subplot(3, 3, i + 1)\n",
    "    plt.imshow(imgs[i])\n",
    "    plt.axis('off')\n",
    "plt.show()"
   ]
  },
  {
   "cell_type": "code",
   "execution_count": null,
   "id": "80795dac",
   "metadata": {},
   "outputs": [
    {
     "data": {
      "image/png": "[encoded data removed]",
      "text/plain": [
       "<Figure size 1000x1000 with 9 Axes>"
      ]
     },
     "metadata": {},
     "output_type": "display_data"
    }
   ],
   "source": [
    "plt.figure(figsize=(10, 10))\n",
    "for i in range(9):\n",
    "    ax = plt.subplot(3, 3, i + 1)\n",
    "    plt.imshow(x_test[i])\n",
    "    plt.axis('off')\n",
    "plt.show()"
   ]
  },
  {
   "cell_type": "code",
   "execution_count": null,
   "id": "09d67913",
   "metadata": {},
   "outputs": [],
   "source": [
    "denoiser_cnn.save('noise_.4.h5')"
   ]
  },
  {
   "cell_type": "code",
   "execution_count": null,
   "id": "7fb28837",
   "metadata": {},
   "outputs": [],
   "source": [
    "# prepare larger input\n",
    "ds, height, width, channels = x_test_input.shape\n",
    "large_image = np.zeros((1, height * 3, width * 3, 1))\n",
    "for i in range(9):\n",
    "    y, x = divmod(i, 3)\n",
    "    large_image[0, width*x:width*x+width, height*y:height*y+height] = x_test_input[i]"
   ]
  },
  {
   "cell_type": "code",
   "execution_count": null,
   "id": "145ddda1",
   "metadata": {},
   "outputs": [
    {
     "data": {
      "image/png": "[encoded data removed]",
      "text/plain": [
       "<Figure size 640x480 with 1 Axes>"
      ]
     },
     "metadata": {},
     "output_type": "display_data"
    }
   ],
   "source": [
    "plt.imshow(large_image[0, :, :, 0])\n",
    "plt.show()"
   ]
  },
  {
   "cell_type": "code",
   "execution_count": null,
   "id": "bd28a22a",
   "metadata": {},
   "outputs": [],
   "source": [
    "denoiser_cnn = tf.keras.models.load_model('noise_.4.h5')"
   ]
  },
  {
   "cell_type": "code",
   "execution_count": null,
   "id": "5ee57429",
   "metadata": {},
   "outputs": [],
   "source": [
    "new_model = make_denoiser_model(large_image.shape[1:])\n",
    "# iterate over all the layers that we want to get weights from\n",
    "weights = [layer.get_weights() for layer in denoiser_cnn.layers[1:]]\n",
    "for layer, weight in zip(new_model.layers[1:], weights):\n",
    "    layer.set_weights(weight)"
   ]
  },
  {
   "cell_type": "code",
   "execution_count": null,
   "id": "03588fcb",
   "metadata": {},
   "outputs": [
    {
     "name": "stdout",
     "output_type": "stream",
     "text": [
      "Model: \"model_4\"\n",
      "__________________________________________________________________________________________________\n",
      " Layer (type)                   Output Shape         Param #     Connected to                     \n",
      "==================================================================================================\n",
      " input_5 (InputLayer)           [(None, 84, 84, 1)]  0           []                               \n",
      "                                                                                                  \n",
      " rescaling_1 (Rescaling)        (None, 84, 84, 1)    0           ['input_5[0][0]']                \n",
      "                                                                                                  \n",
      " conv2d_7 (Conv2D)              (None, 84, 84, 8)    80          ['rescaling_1[0][0]']            \n",
      "                                                                                                  \n",
      " max_pooling2d_8 (MaxPooling2D)  (None, 42, 42, 8)   0           ['conv2d_7[0][0]']               \n",
      "                                                                                                  \n",
      " separable_conv2d_2 (SeparableC  (None, 42, 42, 16)  216         ['max_pooling2d_8[0][0]']        \n",
      " onv2D)                                                                                           \n",
      "                                                                                                  \n",
      " max_pooling2d_9 (MaxPooling2D)  (None, 21, 21, 16)  0           ['separable_conv2d_2[0][0]']     \n",
      "                                                                                                  \n",
      " conv2d_transpose_2 (Conv2DTran  (None, 21, 21, 16)  2320        ['max_pooling2d_9[0][0]']        \n",
      " spose)                                                                                           \n",
      "                                                                                                  \n",
      " up_sampling2d_2 (UpSampling2D)  (None, 42, 42, 16)  0           ['conv2d_transpose_2[0][0]']     \n",
      "                                                                                                  \n",
      " concatenate_2 (Concatenate)    (None, 42, 42, 32)   0           ['up_sampling2d_2[0][0]',        \n",
      "                                                                  'separable_conv2d_2[0][0]']     \n",
      "                                                                                                  \n",
      " conv2d_transpose_3 (Conv2DTran  (None, 42, 42, 8)   2312        ['concatenate_2[0][0]']          \n",
      " spose)                                                                                           \n",
      "                                                                                                  \n",
      " up_sampling2d_3 (UpSampling2D)  (None, 84, 84, 8)   0           ['conv2d_transpose_3[0][0]']     \n",
      "                                                                                                  \n",
      " concatenate_3 (Concatenate)    (None, 84, 84, 16)   0           ['up_sampling2d_3[0][0]',        \n",
      "                                                                  'conv2d_7[0][0]']               \n",
      "                                                                                                  \n",
      " conv2d_8 (Conv2D)              (None, 84, 84, 1)    145         ['concatenate_3[0][0]']          \n",
      "                                                                                                  \n",
      "==================================================================================================\n",
      "Total params: 5,073\n",
      "Trainable params: 5,073\n",
      "Non-trainable params: 0\n",
      "__________________________________________________________________________________________________\n"
     ]
    }
   ],
   "source": [
    "new_model.summary()"
   ]
  },
  {
   "cell_type": "code",
   "execution_count": null,
   "id": "10a25237",
   "metadata": {},
   "outputs": [
    {
     "name": "stdout",
     "output_type": "stream",
     "text": [
      "1/1 [==============================] - 0s 98ms/step\n"
     ]
    }
   ],
   "source": [
    "denoised_img = new_model.predict(large_image)"
   ]
  },
  {
   "cell_type": "code",
   "execution_count": null,
   "id": "afe59a31",
   "metadata": {},
   "outputs": [
    {
     "data": {
      "image/png": "[encoded data removed]",
      "text/plain": [
       "<Figure size 640x480 with 1 Axes>"
      ]
     },
     "metadata": {},
     "output_type": "display_data"
    }
   ],
   "source": [
    "plt.imshow(denoised_img[0, :, :, 0])\n",
    "plt.show()"
   ]
  }
 ],
 "metadata": {
  "kernelspec": {
   "display_name": "dl",
   "language": "python",
   "name": "python3"
  },
  "language_info": {
   "codemirror_mode": {
    "name": "ipython",
    "version": 3
   },
   "file_extension": ".py",
   "mimetype": "text/x-python",
   "name": "python",
   "nbconvert_exporter": "python",
   "pygments_lexer": "ipython3",
   "version": "3.9.18"
  },
  "widgets": {
   "application/vnd.jupyter.widget-state+json": {
    "state": {},
    "version_major": 2,
    "version_minor": 0
   }
  }
 },
 "nbformat": 4,
 "nbformat_minor": 5
}
